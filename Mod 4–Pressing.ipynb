{
 "cells": [
  {
   "cell_type": "code",
   "execution_count": 36,
   "id": "a4e5663f",
   "metadata": {
    "scrolled": false
   },
   "outputs": [
    {
     "data": {
      "text/html": [
       "<div>\n",
       "<style scoped>\n",
       "    .dataframe tbody tr th:only-of-type {\n",
       "        vertical-align: middle;\n",
       "    }\n",
       "\n",
       "    .dataframe tbody tr th {\n",
       "        vertical-align: top;\n",
       "    }\n",
       "\n",
       "    .dataframe thead th {\n",
       "        text-align: right;\n",
       "    }\n",
       "</style>\n",
       "<table border=\"1\" class=\"dataframe\">\n",
       "  <thead>\n",
       "    <tr style=\"text-align: right;\">\n",
       "      <th></th>\n",
       "      <th>Squad</th>\n",
       "      <th>No of Games</th>\n",
       "      <th>Presssures</th>\n",
       "      <th>Success</th>\n",
       "      <th>Percentage Success</th>\n",
       "      <th>Def 3rd</th>\n",
       "      <th>Mid 3rd</th>\n",
       "      <th>Att 3rd</th>\n",
       "    </tr>\n",
       "  </thead>\n",
       "  <tbody>\n",
       "    <tr>\n",
       "      <th>0</th>\n",
       "      <td>Arsenal</td>\n",
       "      <td>16</td>\n",
       "      <td>1930</td>\n",
       "      <td>558</td>\n",
       "      <td>28.9</td>\n",
       "      <td>620</td>\n",
       "      <td>778</td>\n",
       "      <td>532</td>\n",
       "    </tr>\n",
       "    <tr>\n",
       "      <th>1</th>\n",
       "      <td>Aston Villa</td>\n",
       "      <td>16</td>\n",
       "      <td>2213</td>\n",
       "      <td>610</td>\n",
       "      <td>27.6</td>\n",
       "      <td>795</td>\n",
       "      <td>921</td>\n",
       "      <td>497</td>\n",
       "    </tr>\n",
       "    <tr>\n",
       "      <th>2</th>\n",
       "      <td>Brentford</td>\n",
       "      <td>16</td>\n",
       "      <td>2343</td>\n",
       "      <td>710</td>\n",
       "      <td>30.3</td>\n",
       "      <td>825</td>\n",
       "      <td>989</td>\n",
       "      <td>529</td>\n",
       "    </tr>\n",
       "    <tr>\n",
       "      <th>3</th>\n",
       "      <td>Brighton</td>\n",
       "      <td>15</td>\n",
       "      <td>2181</td>\n",
       "      <td>677</td>\n",
       "      <td>31.0</td>\n",
       "      <td>761</td>\n",
       "      <td>851</td>\n",
       "      <td>569</td>\n",
       "    </tr>\n",
       "    <tr>\n",
       "      <th>4</th>\n",
       "      <td>Burnley</td>\n",
       "      <td>15</td>\n",
       "      <td>2005</td>\n",
       "      <td>551</td>\n",
       "      <td>27.5</td>\n",
       "      <td>624</td>\n",
       "      <td>881</td>\n",
       "      <td>500</td>\n",
       "    </tr>\n",
       "    <tr>\n",
       "      <th>5</th>\n",
       "      <td>Chelsea</td>\n",
       "      <td>16</td>\n",
       "      <td>2285</td>\n",
       "      <td>715</td>\n",
       "      <td>31.3</td>\n",
       "      <td>728</td>\n",
       "      <td>960</td>\n",
       "      <td>597</td>\n",
       "    </tr>\n",
       "    <tr>\n",
       "      <th>6</th>\n",
       "      <td>Crystal Palace</td>\n",
       "      <td>16</td>\n",
       "      <td>2531</td>\n",
       "      <td>745</td>\n",
       "      <td>29.4</td>\n",
       "      <td>889</td>\n",
       "      <td>1111</td>\n",
       "      <td>531</td>\n",
       "    </tr>\n",
       "    <tr>\n",
       "      <th>7</th>\n",
       "      <td>Everton</td>\n",
       "      <td>16</td>\n",
       "      <td>2503</td>\n",
       "      <td>762</td>\n",
       "      <td>30.4</td>\n",
       "      <td>891</td>\n",
       "      <td>1065</td>\n",
       "      <td>547</td>\n",
       "    </tr>\n",
       "    <tr>\n",
       "      <th>8</th>\n",
       "      <td>Leeds United</td>\n",
       "      <td>16</td>\n",
       "      <td>2669</td>\n",
       "      <td>830</td>\n",
       "      <td>31.1</td>\n",
       "      <td>893</td>\n",
       "      <td>1171</td>\n",
       "      <td>605</td>\n",
       "    </tr>\n",
       "    <tr>\n",
       "      <th>9</th>\n",
       "      <td>Leicester City</td>\n",
       "      <td>16</td>\n",
       "      <td>2491</td>\n",
       "      <td>726</td>\n",
       "      <td>29.1</td>\n",
       "      <td>825</td>\n",
       "      <td>1150</td>\n",
       "      <td>516</td>\n",
       "    </tr>\n",
       "    <tr>\n",
       "      <th>10</th>\n",
       "      <td>Liverpool</td>\n",
       "      <td>16</td>\n",
       "      <td>2218</td>\n",
       "      <td>682</td>\n",
       "      <td>30.7</td>\n",
       "      <td>558</td>\n",
       "      <td>978</td>\n",
       "      <td>682</td>\n",
       "    </tr>\n",
       "    <tr>\n",
       "      <th>11</th>\n",
       "      <td>Manchester City</td>\n",
       "      <td>16</td>\n",
       "      <td>1874</td>\n",
       "      <td>583</td>\n",
       "      <td>31.1</td>\n",
       "      <td>439</td>\n",
       "      <td>842</td>\n",
       "      <td>593</td>\n",
       "    </tr>\n",
       "    <tr>\n",
       "      <th>12</th>\n",
       "      <td>Manchester Utd</td>\n",
       "      <td>16</td>\n",
       "      <td>2043</td>\n",
       "      <td>593</td>\n",
       "      <td>29.0</td>\n",
       "      <td>653</td>\n",
       "      <td>927</td>\n",
       "      <td>463</td>\n",
       "    </tr>\n",
       "    <tr>\n",
       "      <th>13</th>\n",
       "      <td>Newcastle Utd</td>\n",
       "      <td>16</td>\n",
       "      <td>2167</td>\n",
       "      <td>574</td>\n",
       "      <td>26.5</td>\n",
       "      <td>904</td>\n",
       "      <td>861</td>\n",
       "      <td>402</td>\n",
       "    </tr>\n",
       "    <tr>\n",
       "      <th>14</th>\n",
       "      <td>Norwich City</td>\n",
       "      <td>16</td>\n",
       "      <td>2468</td>\n",
       "      <td>663</td>\n",
       "      <td>26.9</td>\n",
       "      <td>965</td>\n",
       "      <td>991</td>\n",
       "      <td>512</td>\n",
       "    </tr>\n",
       "    <tr>\n",
       "      <th>15</th>\n",
       "      <td>Southampton</td>\n",
       "      <td>16</td>\n",
       "      <td>2424</td>\n",
       "      <td>744</td>\n",
       "      <td>30.7</td>\n",
       "      <td>753</td>\n",
       "      <td>1036</td>\n",
       "      <td>635</td>\n",
       "    </tr>\n",
       "    <tr>\n",
       "      <th>16</th>\n",
       "      <td>Tottenham</td>\n",
       "      <td>14</td>\n",
       "      <td>2079</td>\n",
       "      <td>584</td>\n",
       "      <td>28.1</td>\n",
       "      <td>774</td>\n",
       "      <td>908</td>\n",
       "      <td>397</td>\n",
       "    </tr>\n",
       "    <tr>\n",
       "      <th>17</th>\n",
       "      <td>Watford</td>\n",
       "      <td>16</td>\n",
       "      <td>2333</td>\n",
       "      <td>663</td>\n",
       "      <td>28.4</td>\n",
       "      <td>773</td>\n",
       "      <td>1024</td>\n",
       "      <td>536</td>\n",
       "    </tr>\n",
       "    <tr>\n",
       "      <th>18</th>\n",
       "      <td>West Ham</td>\n",
       "      <td>16</td>\n",
       "      <td>2129</td>\n",
       "      <td>595</td>\n",
       "      <td>27.9</td>\n",
       "      <td>767</td>\n",
       "      <td>929</td>\n",
       "      <td>433</td>\n",
       "    </tr>\n",
       "    <tr>\n",
       "      <th>19</th>\n",
       "      <td>Wolves</td>\n",
       "      <td>16</td>\n",
       "      <td>2255</td>\n",
       "      <td>684</td>\n",
       "      <td>30.3</td>\n",
       "      <td>928</td>\n",
       "      <td>943</td>\n",
       "      <td>384</td>\n",
       "    </tr>\n",
       "  </tbody>\n",
       "</table>\n",
       "</div>"
      ],
      "text/plain": [
       "              Squad  No of Games  Presssures  Success  Percentage Success  \\\n",
       "0           Arsenal           16        1930      558                28.9   \n",
       "1       Aston Villa           16        2213      610                27.6   \n",
       "2         Brentford           16        2343      710                30.3   \n",
       "3          Brighton           15        2181      677                31.0   \n",
       "4           Burnley           15        2005      551                27.5   \n",
       "5           Chelsea           16        2285      715                31.3   \n",
       "6    Crystal Palace           16        2531      745                29.4   \n",
       "7           Everton           16        2503      762                30.4   \n",
       "8      Leeds United           16        2669      830                31.1   \n",
       "9    Leicester City           16        2491      726                29.1   \n",
       "10        Liverpool           16        2218      682                30.7   \n",
       "11  Manchester City           16        1874      583                31.1   \n",
       "12   Manchester Utd           16        2043      593                29.0   \n",
       "13    Newcastle Utd           16        2167      574                26.5   \n",
       "14     Norwich City           16        2468      663                26.9   \n",
       "15      Southampton           16        2424      744                30.7   \n",
       "16        Tottenham           14        2079      584                28.1   \n",
       "17          Watford           16        2333      663                28.4   \n",
       "18         West Ham           16        2129      595                27.9   \n",
       "19           Wolves           16        2255      684                30.3   \n",
       "\n",
       "    Def 3rd  Mid 3rd  Att 3rd  \n",
       "0       620      778      532  \n",
       "1       795      921      497  \n",
       "2       825      989      529  \n",
       "3       761      851      569  \n",
       "4       624      881      500  \n",
       "5       728      960      597  \n",
       "6       889     1111      531  \n",
       "7       891     1065      547  \n",
       "8       893     1171      605  \n",
       "9       825     1150      516  \n",
       "10      558      978      682  \n",
       "11      439      842      593  \n",
       "12      653      927      463  \n",
       "13      904      861      402  \n",
       "14      965      991      512  \n",
       "15      753     1036      635  \n",
       "16      774      908      397  \n",
       "17      773     1024      536  \n",
       "18      767      929      433  \n",
       "19      928      943      384  "
      ]
     },
     "execution_count": 36,
     "metadata": {},
     "output_type": "execute_result"
    }
   ],
   "source": [
    "import pandas as pd\n",
    "\n",
    "df = pd.read_csv('Joel A. Adejola–Pressing Data - 1 Final Pressing Data.csv')\n",
    "\n",
    "df"
   ]
  },
  {
   "cell_type": "code",
   "execution_count": 80,
   "id": "8bcc083e",
   "metadata": {},
   "outputs": [
    {
     "data": {
      "application/vnd.plotly.v1+json": {
       "config": {
        "plotlyServerURL": "https://plot.ly"
       },
       "data": [
        {
         "hovertemplate": "Squad=Arsenal<br>Att 3rd=%{x}<br>Percentage Success=%{y}<br>Pressures=%{marker.size}<extra></extra>",
         "legendgroup": "Arsenal",
         "marker": {
          "color": "#636efa",
          "size": [
           1930
          ],
          "sizemode": "area",
          "sizeref": 6.6725,
          "symbol": "circle"
         },
         "mode": "markers",
         "name": "Arsenal",
         "orientation": "v",
         "showlegend": true,
         "type": "scatter",
         "x": [
          532
         ],
         "xaxis": "x",
         "y": [
          28.9
         ],
         "yaxis": "y"
        },
        {
         "hovertemplate": "Squad=Aston Villa<br>Att 3rd=%{x}<br>Percentage Success=%{y}<br>Pressures=%{marker.size}<extra></extra>",
         "legendgroup": "Aston Villa",
         "marker": {
          "color": "#EF553B",
          "size": [
           2213
          ],
          "sizemode": "area",
          "sizeref": 6.6725,
          "symbol": "circle"
         },
         "mode": "markers",
         "name": "Aston Villa",
         "orientation": "v",
         "showlegend": true,
         "type": "scatter",
         "x": [
          497
         ],
         "xaxis": "x",
         "y": [
          27.6
         ],
         "yaxis": "y"
        },
        {
         "hovertemplate": "Squad=Brentford<br>Att 3rd=%{x}<br>Percentage Success=%{y}<br>Pressures=%{marker.size}<extra></extra>",
         "legendgroup": "Brentford",
         "marker": {
          "color": "#00cc96",
          "size": [
           2343
          ],
          "sizemode": "area",
          "sizeref": 6.6725,
          "symbol": "circle"
         },
         "mode": "markers",
         "name": "Brentford",
         "orientation": "v",
         "showlegend": true,
         "type": "scatter",
         "x": [
          529
         ],
         "xaxis": "x",
         "y": [
          30.3
         ],
         "yaxis": "y"
        },
        {
         "hovertemplate": "Squad=Brighton<br>Att 3rd=%{x}<br>Percentage Success=%{y}<br>Pressures=%{marker.size}<extra></extra>",
         "legendgroup": "Brighton",
         "marker": {
          "color": "#ab63fa",
          "size": [
           2181
          ],
          "sizemode": "area",
          "sizeref": 6.6725,
          "symbol": "circle"
         },
         "mode": "markers",
         "name": "Brighton",
         "orientation": "v",
         "showlegend": true,
         "type": "scatter",
         "x": [
          569
         ],
         "xaxis": "x",
         "y": [
          31
         ],
         "yaxis": "y"
        },
        {
         "hovertemplate": "Squad=Burnley<br>Att 3rd=%{x}<br>Percentage Success=%{y}<br>Pressures=%{marker.size}<extra></extra>",
         "legendgroup": "Burnley",
         "marker": {
          "color": "#FFA15A",
          "size": [
           2005
          ],
          "sizemode": "area",
          "sizeref": 6.6725,
          "symbol": "circle"
         },
         "mode": "markers",
         "name": "Burnley",
         "orientation": "v",
         "showlegend": true,
         "type": "scatter",
         "x": [
          500
         ],
         "xaxis": "x",
         "y": [
          27.5
         ],
         "yaxis": "y"
        },
        {
         "hovertemplate": "Squad=Chelsea<br>Att 3rd=%{x}<br>Percentage Success=%{y}<br>Pressures=%{marker.size}<extra></extra>",
         "legendgroup": "Chelsea",
         "marker": {
          "color": "#19d3f3",
          "size": [
           2285
          ],
          "sizemode": "area",
          "sizeref": 6.6725,
          "symbol": "circle"
         },
         "mode": "markers",
         "name": "Chelsea",
         "orientation": "v",
         "showlegend": true,
         "type": "scatter",
         "x": [
          597
         ],
         "xaxis": "x",
         "y": [
          31.3
         ],
         "yaxis": "y"
        },
        {
         "hovertemplate": "Squad=Crystal Palace<br>Att 3rd=%{x}<br>Percentage Success=%{y}<br>Pressures=%{marker.size}<extra></extra>",
         "legendgroup": "Crystal Palace",
         "marker": {
          "color": "#FF6692",
          "size": [
           2531
          ],
          "sizemode": "area",
          "sizeref": 6.6725,
          "symbol": "circle"
         },
         "mode": "markers",
         "name": "Crystal Palace",
         "orientation": "v",
         "showlegend": true,
         "type": "scatter",
         "x": [
          531
         ],
         "xaxis": "x",
         "y": [
          29.4
         ],
         "yaxis": "y"
        },
        {
         "hovertemplate": "Squad=Everton<br>Att 3rd=%{x}<br>Percentage Success=%{y}<br>Pressures=%{marker.size}<extra></extra>",
         "legendgroup": "Everton",
         "marker": {
          "color": "#B6E880",
          "size": [
           2503
          ],
          "sizemode": "area",
          "sizeref": 6.6725,
          "symbol": "circle"
         },
         "mode": "markers",
         "name": "Everton",
         "orientation": "v",
         "showlegend": true,
         "type": "scatter",
         "x": [
          547
         ],
         "xaxis": "x",
         "y": [
          30.4
         ],
         "yaxis": "y"
        },
        {
         "hovertemplate": "Squad=Leeds United<br>Att 3rd=%{x}<br>Percentage Success=%{y}<br>Pressures=%{marker.size}<extra></extra>",
         "legendgroup": "Leeds United",
         "marker": {
          "color": "#FF97FF",
          "size": [
           2669
          ],
          "sizemode": "area",
          "sizeref": 6.6725,
          "symbol": "circle"
         },
         "mode": "markers",
         "name": "Leeds United",
         "orientation": "v",
         "showlegend": true,
         "type": "scatter",
         "x": [
          605
         ],
         "xaxis": "x",
         "y": [
          31.1
         ],
         "yaxis": "y"
        },
        {
         "hovertemplate": "Squad=Leicester City<br>Att 3rd=%{x}<br>Percentage Success=%{y}<br>Pressures=%{marker.size}<extra></extra>",
         "legendgroup": "Leicester City",
         "marker": {
          "color": "#FECB52",
          "size": [
           2491
          ],
          "sizemode": "area",
          "sizeref": 6.6725,
          "symbol": "circle"
         },
         "mode": "markers",
         "name": "Leicester City",
         "orientation": "v",
         "showlegend": true,
         "type": "scatter",
         "x": [
          516
         ],
         "xaxis": "x",
         "y": [
          29.1
         ],
         "yaxis": "y"
        },
        {
         "hovertemplate": "Squad=Liverpool<br>Att 3rd=%{x}<br>Percentage Success=%{y}<br>Pressures=%{marker.size}<extra></extra>",
         "legendgroup": "Liverpool",
         "marker": {
          "color": "#636efa",
          "size": [
           2218
          ],
          "sizemode": "area",
          "sizeref": 6.6725,
          "symbol": "circle"
         },
         "mode": "markers",
         "name": "Liverpool",
         "orientation": "v",
         "showlegend": true,
         "type": "scatter",
         "x": [
          682
         ],
         "xaxis": "x",
         "y": [
          30.7
         ],
         "yaxis": "y"
        },
        {
         "hovertemplate": "Squad=Manchester City<br>Att 3rd=%{x}<br>Percentage Success=%{y}<br>Pressures=%{marker.size}<extra></extra>",
         "legendgroup": "Manchester City",
         "marker": {
          "color": "#EF553B",
          "size": [
           1874
          ],
          "sizemode": "area",
          "sizeref": 6.6725,
          "symbol": "circle"
         },
         "mode": "markers",
         "name": "Manchester City",
         "orientation": "v",
         "showlegend": true,
         "type": "scatter",
         "x": [
          593
         ],
         "xaxis": "x",
         "y": [
          31.1
         ],
         "yaxis": "y"
        },
        {
         "hovertemplate": "Squad=Manchester Utd<br>Att 3rd=%{x}<br>Percentage Success=%{y}<br>Pressures=%{marker.size}<extra></extra>",
         "legendgroup": "Manchester Utd",
         "marker": {
          "color": "#00cc96",
          "size": [
           2043
          ],
          "sizemode": "area",
          "sizeref": 6.6725,
          "symbol": "circle"
         },
         "mode": "markers",
         "name": "Manchester Utd",
         "orientation": "v",
         "showlegend": true,
         "type": "scatter",
         "x": [
          463
         ],
         "xaxis": "x",
         "y": [
          29
         ],
         "yaxis": "y"
        },
        {
         "hovertemplate": "Squad=Newcastle Utd<br>Att 3rd=%{x}<br>Percentage Success=%{y}<br>Pressures=%{marker.size}<extra></extra>",
         "legendgroup": "Newcastle Utd",
         "marker": {
          "color": "#ab63fa",
          "size": [
           2167
          ],
          "sizemode": "area",
          "sizeref": 6.6725,
          "symbol": "circle"
         },
         "mode": "markers",
         "name": "Newcastle Utd",
         "orientation": "v",
         "showlegend": true,
         "type": "scatter",
         "x": [
          402
         ],
         "xaxis": "x",
         "y": [
          26.5
         ],
         "yaxis": "y"
        },
        {
         "hovertemplate": "Squad=Norwich City<br>Att 3rd=%{x}<br>Percentage Success=%{y}<br>Pressures=%{marker.size}<extra></extra>",
         "legendgroup": "Norwich City",
         "marker": {
          "color": "#FFA15A",
          "size": [
           2468
          ],
          "sizemode": "area",
          "sizeref": 6.6725,
          "symbol": "circle"
         },
         "mode": "markers",
         "name": "Norwich City",
         "orientation": "v",
         "showlegend": true,
         "type": "scatter",
         "x": [
          512
         ],
         "xaxis": "x",
         "y": [
          26.9
         ],
         "yaxis": "y"
        },
        {
         "hovertemplate": "Squad=Southampton<br>Att 3rd=%{x}<br>Percentage Success=%{y}<br>Pressures=%{marker.size}<extra></extra>",
         "legendgroup": "Southampton",
         "marker": {
          "color": "#19d3f3",
          "size": [
           2424
          ],
          "sizemode": "area",
          "sizeref": 6.6725,
          "symbol": "circle"
         },
         "mode": "markers",
         "name": "Southampton",
         "orientation": "v",
         "showlegend": true,
         "type": "scatter",
         "x": [
          635
         ],
         "xaxis": "x",
         "y": [
          30.7
         ],
         "yaxis": "y"
        },
        {
         "hovertemplate": "Squad=Tottenham<br>Att 3rd=%{x}<br>Percentage Success=%{y}<br>Pressures=%{marker.size}<extra></extra>",
         "legendgroup": "Tottenham",
         "marker": {
          "color": "#FF6692",
          "size": [
           2079
          ],
          "sizemode": "area",
          "sizeref": 6.6725,
          "symbol": "circle"
         },
         "mode": "markers",
         "name": "Tottenham",
         "orientation": "v",
         "showlegend": true,
         "type": "scatter",
         "x": [
          397
         ],
         "xaxis": "x",
         "y": [
          28.1
         ],
         "yaxis": "y"
        },
        {
         "hovertemplate": "Squad=Watford<br>Att 3rd=%{x}<br>Percentage Success=%{y}<br>Pressures=%{marker.size}<extra></extra>",
         "legendgroup": "Watford",
         "marker": {
          "color": "#B6E880",
          "size": [
           2333
          ],
          "sizemode": "area",
          "sizeref": 6.6725,
          "symbol": "circle"
         },
         "mode": "markers",
         "name": "Watford",
         "orientation": "v",
         "showlegend": true,
         "type": "scatter",
         "x": [
          536
         ],
         "xaxis": "x",
         "y": [
          28.4
         ],
         "yaxis": "y"
        },
        {
         "hovertemplate": "Squad=West Ham<br>Att 3rd=%{x}<br>Percentage Success=%{y}<br>Pressures=%{marker.size}<extra></extra>",
         "legendgroup": "West Ham",
         "marker": {
          "color": "#FF97FF",
          "size": [
           2129
          ],
          "sizemode": "area",
          "sizeref": 6.6725,
          "symbol": "circle"
         },
         "mode": "markers",
         "name": "West Ham",
         "orientation": "v",
         "showlegend": true,
         "type": "scatter",
         "x": [
          433
         ],
         "xaxis": "x",
         "y": [
          27.9
         ],
         "yaxis": "y"
        },
        {
         "hovertemplate": "Squad=Wolves<br>Att 3rd=%{x}<br>Percentage Success=%{y}<br>Pressures=%{marker.size}<extra></extra>",
         "legendgroup": "Wolves",
         "marker": {
          "color": "#FECB52",
          "size": [
           2255
          ],
          "sizemode": "area",
          "sizeref": 6.6725,
          "symbol": "circle"
         },
         "mode": "markers",
         "name": "Wolves",
         "orientation": "v",
         "showlegend": true,
         "type": "scatter",
         "x": [
          384
         ],
         "xaxis": "x",
         "y": [
          30.3
         ],
         "yaxis": "y"
        }
       ],
       "layout": {
        "legend": {
         "itemsizing": "constant",
         "title": {
          "text": "Squad"
         },
         "tracegroupgap": 0
        },
        "margin": {
         "t": 60
        },
        "template": {
         "data": {
          "bar": [
           {
            "error_x": {
             "color": "#2a3f5f"
            },
            "error_y": {
             "color": "#2a3f5f"
            },
            "marker": {
             "line": {
              "color": "#E5ECF6",
              "width": 0.5
             },
             "pattern": {
              "fillmode": "overlay",
              "size": 10,
              "solidity": 0.2
             }
            },
            "type": "bar"
           }
          ],
          "barpolar": [
           {
            "marker": {
             "line": {
              "color": "#E5ECF6",
              "width": 0.5
             },
             "pattern": {
              "fillmode": "overlay",
              "size": 10,
              "solidity": 0.2
             }
            },
            "type": "barpolar"
           }
          ],
          "carpet": [
           {
            "aaxis": {
             "endlinecolor": "#2a3f5f",
             "gridcolor": "white",
             "linecolor": "white",
             "minorgridcolor": "white",
             "startlinecolor": "#2a3f5f"
            },
            "baxis": {
             "endlinecolor": "#2a3f5f",
             "gridcolor": "white",
             "linecolor": "white",
             "minorgridcolor": "white",
             "startlinecolor": "#2a3f5f"
            },
            "type": "carpet"
           }
          ],
          "choropleth": [
           {
            "colorbar": {
             "outlinewidth": 0,
             "ticks": ""
            },
            "type": "choropleth"
           }
          ],
          "contour": [
           {
            "colorbar": {
             "outlinewidth": 0,
             "ticks": ""
            },
            "colorscale": [
             [
              0,
              "#0d0887"
             ],
             [
              0.1111111111111111,
              "#46039f"
             ],
             [
              0.2222222222222222,
              "#7201a8"
             ],
             [
              0.3333333333333333,
              "#9c179e"
             ],
             [
              0.4444444444444444,
              "#bd3786"
             ],
             [
              0.5555555555555556,
              "#d8576b"
             ],
             [
              0.6666666666666666,
              "#ed7953"
             ],
             [
              0.7777777777777778,
              "#fb9f3a"
             ],
             [
              0.8888888888888888,
              "#fdca26"
             ],
             [
              1,
              "#f0f921"
             ]
            ],
            "type": "contour"
           }
          ],
          "contourcarpet": [
           {
            "colorbar": {
             "outlinewidth": 0,
             "ticks": ""
            },
            "type": "contourcarpet"
           }
          ],
          "heatmap": [
           {
            "colorbar": {
             "outlinewidth": 0,
             "ticks": ""
            },
            "colorscale": [
             [
              0,
              "#0d0887"
             ],
             [
              0.1111111111111111,
              "#46039f"
             ],
             [
              0.2222222222222222,
              "#7201a8"
             ],
             [
              0.3333333333333333,
              "#9c179e"
             ],
             [
              0.4444444444444444,
              "#bd3786"
             ],
             [
              0.5555555555555556,
              "#d8576b"
             ],
             [
              0.6666666666666666,
              "#ed7953"
             ],
             [
              0.7777777777777778,
              "#fb9f3a"
             ],
             [
              0.8888888888888888,
              "#fdca26"
             ],
             [
              1,
              "#f0f921"
             ]
            ],
            "type": "heatmap"
           }
          ],
          "heatmapgl": [
           {
            "colorbar": {
             "outlinewidth": 0,
             "ticks": ""
            },
            "colorscale": [
             [
              0,
              "#0d0887"
             ],
             [
              0.1111111111111111,
              "#46039f"
             ],
             [
              0.2222222222222222,
              "#7201a8"
             ],
             [
              0.3333333333333333,
              "#9c179e"
             ],
             [
              0.4444444444444444,
              "#bd3786"
             ],
             [
              0.5555555555555556,
              "#d8576b"
             ],
             [
              0.6666666666666666,
              "#ed7953"
             ],
             [
              0.7777777777777778,
              "#fb9f3a"
             ],
             [
              0.8888888888888888,
              "#fdca26"
             ],
             [
              1,
              "#f0f921"
             ]
            ],
            "type": "heatmapgl"
           }
          ],
          "histogram": [
           {
            "marker": {
             "pattern": {
              "fillmode": "overlay",
              "size": 10,
              "solidity": 0.2
             }
            },
            "type": "histogram"
           }
          ],
          "histogram2d": [
           {
            "colorbar": {
             "outlinewidth": 0,
             "ticks": ""
            },
            "colorscale": [
             [
              0,
              "#0d0887"
             ],
             [
              0.1111111111111111,
              "#46039f"
             ],
             [
              0.2222222222222222,
              "#7201a8"
             ],
             [
              0.3333333333333333,
              "#9c179e"
             ],
             [
              0.4444444444444444,
              "#bd3786"
             ],
             [
              0.5555555555555556,
              "#d8576b"
             ],
             [
              0.6666666666666666,
              "#ed7953"
             ],
             [
              0.7777777777777778,
              "#fb9f3a"
             ],
             [
              0.8888888888888888,
              "#fdca26"
             ],
             [
              1,
              "#f0f921"
             ]
            ],
            "type": "histogram2d"
           }
          ],
          "histogram2dcontour": [
           {
            "colorbar": {
             "outlinewidth": 0,
             "ticks": ""
            },
            "colorscale": [
             [
              0,
              "#0d0887"
             ],
             [
              0.1111111111111111,
              "#46039f"
             ],
             [
              0.2222222222222222,
              "#7201a8"
             ],
             [
              0.3333333333333333,
              "#9c179e"
             ],
             [
              0.4444444444444444,
              "#bd3786"
             ],
             [
              0.5555555555555556,
              "#d8576b"
             ],
             [
              0.6666666666666666,
              "#ed7953"
             ],
             [
              0.7777777777777778,
              "#fb9f3a"
             ],
             [
              0.8888888888888888,
              "#fdca26"
             ],
             [
              1,
              "#f0f921"
             ]
            ],
            "type": "histogram2dcontour"
           }
          ],
          "mesh3d": [
           {
            "colorbar": {
             "outlinewidth": 0,
             "ticks": ""
            },
            "type": "mesh3d"
           }
          ],
          "parcoords": [
           {
            "line": {
             "colorbar": {
              "outlinewidth": 0,
              "ticks": ""
             }
            },
            "type": "parcoords"
           }
          ],
          "pie": [
           {
            "automargin": true,
            "type": "pie"
           }
          ],
          "scatter": [
           {
            "marker": {
             "colorbar": {
              "outlinewidth": 0,
              "ticks": ""
             }
            },
            "type": "scatter"
           }
          ],
          "scatter3d": [
           {
            "line": {
             "colorbar": {
              "outlinewidth": 0,
              "ticks": ""
             }
            },
            "marker": {
             "colorbar": {
              "outlinewidth": 0,
              "ticks": ""
             }
            },
            "type": "scatter3d"
           }
          ],
          "scattercarpet": [
           {
            "marker": {
             "colorbar": {
              "outlinewidth": 0,
              "ticks": ""
             }
            },
            "type": "scattercarpet"
           }
          ],
          "scattergeo": [
           {
            "marker": {
             "colorbar": {
              "outlinewidth": 0,
              "ticks": ""
             }
            },
            "type": "scattergeo"
           }
          ],
          "scattergl": [
           {
            "marker": {
             "colorbar": {
              "outlinewidth": 0,
              "ticks": ""
             }
            },
            "type": "scattergl"
           }
          ],
          "scattermapbox": [
           {
            "marker": {
             "colorbar": {
              "outlinewidth": 0,
              "ticks": ""
             }
            },
            "type": "scattermapbox"
           }
          ],
          "scatterpolar": [
           {
            "marker": {
             "colorbar": {
              "outlinewidth": 0,
              "ticks": ""
             }
            },
            "type": "scatterpolar"
           }
          ],
          "scatterpolargl": [
           {
            "marker": {
             "colorbar": {
              "outlinewidth": 0,
              "ticks": ""
             }
            },
            "type": "scatterpolargl"
           }
          ],
          "scatterternary": [
           {
            "marker": {
             "colorbar": {
              "outlinewidth": 0,
              "ticks": ""
             }
            },
            "type": "scatterternary"
           }
          ],
          "surface": [
           {
            "colorbar": {
             "outlinewidth": 0,
             "ticks": ""
            },
            "colorscale": [
             [
              0,
              "#0d0887"
             ],
             [
              0.1111111111111111,
              "#46039f"
             ],
             [
              0.2222222222222222,
              "#7201a8"
             ],
             [
              0.3333333333333333,
              "#9c179e"
             ],
             [
              0.4444444444444444,
              "#bd3786"
             ],
             [
              0.5555555555555556,
              "#d8576b"
             ],
             [
              0.6666666666666666,
              "#ed7953"
             ],
             [
              0.7777777777777778,
              "#fb9f3a"
             ],
             [
              0.8888888888888888,
              "#fdca26"
             ],
             [
              1,
              "#f0f921"
             ]
            ],
            "type": "surface"
           }
          ],
          "table": [
           {
            "cells": {
             "fill": {
              "color": "#EBF0F8"
             },
             "line": {
              "color": "white"
             }
            },
            "header": {
             "fill": {
              "color": "#C8D4E3"
             },
             "line": {
              "color": "white"
             }
            },
            "type": "table"
           }
          ]
         },
         "layout": {
          "annotationdefaults": {
           "arrowcolor": "#2a3f5f",
           "arrowhead": 0,
           "arrowwidth": 1
          },
          "autotypenumbers": "strict",
          "coloraxis": {
           "colorbar": {
            "outlinewidth": 0,
            "ticks": ""
           }
          },
          "colorscale": {
           "diverging": [
            [
             0,
             "#8e0152"
            ],
            [
             0.1,
             "#c51b7d"
            ],
            [
             0.2,
             "#de77ae"
            ],
            [
             0.3,
             "#f1b6da"
            ],
            [
             0.4,
             "#fde0ef"
            ],
            [
             0.5,
             "#f7f7f7"
            ],
            [
             0.6,
             "#e6f5d0"
            ],
            [
             0.7,
             "#b8e186"
            ],
            [
             0.8,
             "#7fbc41"
            ],
            [
             0.9,
             "#4d9221"
            ],
            [
             1,
             "#276419"
            ]
           ],
           "sequential": [
            [
             0,
             "#0d0887"
            ],
            [
             0.1111111111111111,
             "#46039f"
            ],
            [
             0.2222222222222222,
             "#7201a8"
            ],
            [
             0.3333333333333333,
             "#9c179e"
            ],
            [
             0.4444444444444444,
             "#bd3786"
            ],
            [
             0.5555555555555556,
             "#d8576b"
            ],
            [
             0.6666666666666666,
             "#ed7953"
            ],
            [
             0.7777777777777778,
             "#fb9f3a"
            ],
            [
             0.8888888888888888,
             "#fdca26"
            ],
            [
             1,
             "#f0f921"
            ]
           ],
           "sequentialminus": [
            [
             0,
             "#0d0887"
            ],
            [
             0.1111111111111111,
             "#46039f"
            ],
            [
             0.2222222222222222,
             "#7201a8"
            ],
            [
             0.3333333333333333,
             "#9c179e"
            ],
            [
             0.4444444444444444,
             "#bd3786"
            ],
            [
             0.5555555555555556,
             "#d8576b"
            ],
            [
             0.6666666666666666,
             "#ed7953"
            ],
            [
             0.7777777777777778,
             "#fb9f3a"
            ],
            [
             0.8888888888888888,
             "#fdca26"
            ],
            [
             1,
             "#f0f921"
            ]
           ]
          },
          "colorway": [
           "#636efa",
           "#EF553B",
           "#00cc96",
           "#ab63fa",
           "#FFA15A",
           "#19d3f3",
           "#FF6692",
           "#B6E880",
           "#FF97FF",
           "#FECB52"
          ],
          "font": {
           "color": "#2a3f5f"
          },
          "geo": {
           "bgcolor": "white",
           "lakecolor": "white",
           "landcolor": "#E5ECF6",
           "showlakes": true,
           "showland": true,
           "subunitcolor": "white"
          },
          "hoverlabel": {
           "align": "left"
          },
          "hovermode": "closest",
          "mapbox": {
           "style": "light"
          },
          "paper_bgcolor": "white",
          "plot_bgcolor": "#E5ECF6",
          "polar": {
           "angularaxis": {
            "gridcolor": "white",
            "linecolor": "white",
            "ticks": ""
           },
           "bgcolor": "#E5ECF6",
           "radialaxis": {
            "gridcolor": "white",
            "linecolor": "white",
            "ticks": ""
           }
          },
          "scene": {
           "xaxis": {
            "backgroundcolor": "#E5ECF6",
            "gridcolor": "white",
            "gridwidth": 2,
            "linecolor": "white",
            "showbackground": true,
            "ticks": "",
            "zerolinecolor": "white"
           },
           "yaxis": {
            "backgroundcolor": "#E5ECF6",
            "gridcolor": "white",
            "gridwidth": 2,
            "linecolor": "white",
            "showbackground": true,
            "ticks": "",
            "zerolinecolor": "white"
           },
           "zaxis": {
            "backgroundcolor": "#E5ECF6",
            "gridcolor": "white",
            "gridwidth": 2,
            "linecolor": "white",
            "showbackground": true,
            "ticks": "",
            "zerolinecolor": "white"
           }
          },
          "shapedefaults": {
           "line": {
            "color": "#2a3f5f"
           }
          },
          "ternary": {
           "aaxis": {
            "gridcolor": "white",
            "linecolor": "white",
            "ticks": ""
           },
           "baxis": {
            "gridcolor": "white",
            "linecolor": "white",
            "ticks": ""
           },
           "bgcolor": "#E5ECF6",
           "caxis": {
            "gridcolor": "white",
            "linecolor": "white",
            "ticks": ""
           }
          },
          "title": {
           "x": 0.05
          },
          "xaxis": {
           "automargin": true,
           "gridcolor": "white",
           "linecolor": "white",
           "ticks": "",
           "title": {
            "standoff": 15
           },
           "zerolinecolor": "white",
           "zerolinewidth": 2
          },
          "yaxis": {
           "automargin": true,
           "gridcolor": "white",
           "linecolor": "white",
           "ticks": "",
           "title": {
            "standoff": 15
           },
           "zerolinecolor": "white",
           "zerolinewidth": 2
          }
         }
        },
        "title": {
         "text": "<b>Efficacy of Pressing in the Premier League</b><br><span style=\"font-size: 13px;\"><i>Data source: Fbref (data from Statbomb)</i>"
        },
        "xaxis": {
         "anchor": "y",
         "domain": [
          0,
          1
         ],
         "title": {
          "text": "No of Pressures in the Attacking 3rd"
         }
        },
        "yaxis": {
         "anchor": "x",
         "domain": [
          0,
          1
         ],
         "title": {
          "text": "Successful Pressures(%)"
         }
        }
       }
      },
      "text/html": [
       "<div>                            <div id=\"b604233c-be87-406c-ac09-f5a4cddf9373\" class=\"plotly-graph-div\" style=\"height:525px; width:100%;\"></div>            <script type=\"text/javascript\">                require([\"plotly\"], function(Plotly) {                    window.PLOTLYENV=window.PLOTLYENV || {};                                    if (document.getElementById(\"b604233c-be87-406c-ac09-f5a4cddf9373\")) {                    Plotly.newPlot(                        \"b604233c-be87-406c-ac09-f5a4cddf9373\",                        [{\"hovertemplate\":\"Squad=Arsenal<br>Att 3rd=%{x}<br>Percentage Success=%{y}<br>Pressures=%{marker.size}<extra></extra>\",\"legendgroup\":\"Arsenal\",\"marker\":{\"color\":\"#636efa\",\"size\":[1930],\"sizemode\":\"area\",\"sizeref\":6.6725,\"symbol\":\"circle\"},\"mode\":\"markers\",\"name\":\"Arsenal\",\"orientation\":\"v\",\"showlegend\":true,\"type\":\"scatter\",\"x\":[532],\"xaxis\":\"x\",\"y\":[28.9],\"yaxis\":\"y\"},{\"hovertemplate\":\"Squad=Aston Villa<br>Att 3rd=%{x}<br>Percentage Success=%{y}<br>Pressures=%{marker.size}<extra></extra>\",\"legendgroup\":\"Aston Villa\",\"marker\":{\"color\":\"#EF553B\",\"size\":[2213],\"sizemode\":\"area\",\"sizeref\":6.6725,\"symbol\":\"circle\"},\"mode\":\"markers\",\"name\":\"Aston Villa\",\"orientation\":\"v\",\"showlegend\":true,\"type\":\"scatter\",\"x\":[497],\"xaxis\":\"x\",\"y\":[27.6],\"yaxis\":\"y\"},{\"hovertemplate\":\"Squad=Brentford<br>Att 3rd=%{x}<br>Percentage Success=%{y}<br>Pressures=%{marker.size}<extra></extra>\",\"legendgroup\":\"Brentford\",\"marker\":{\"color\":\"#00cc96\",\"size\":[2343],\"sizemode\":\"area\",\"sizeref\":6.6725,\"symbol\":\"circle\"},\"mode\":\"markers\",\"name\":\"Brentford\",\"orientation\":\"v\",\"showlegend\":true,\"type\":\"scatter\",\"x\":[529],\"xaxis\":\"x\",\"y\":[30.3],\"yaxis\":\"y\"},{\"hovertemplate\":\"Squad=Brighton<br>Att 3rd=%{x}<br>Percentage Success=%{y}<br>Pressures=%{marker.size}<extra></extra>\",\"legendgroup\":\"Brighton\",\"marker\":{\"color\":\"#ab63fa\",\"size\":[2181],\"sizemode\":\"area\",\"sizeref\":6.6725,\"symbol\":\"circle\"},\"mode\":\"markers\",\"name\":\"Brighton\",\"orientation\":\"v\",\"showlegend\":true,\"type\":\"scatter\",\"x\":[569],\"xaxis\":\"x\",\"y\":[31.0],\"yaxis\":\"y\"},{\"hovertemplate\":\"Squad=Burnley<br>Att 3rd=%{x}<br>Percentage Success=%{y}<br>Pressures=%{marker.size}<extra></extra>\",\"legendgroup\":\"Burnley\",\"marker\":{\"color\":\"#FFA15A\",\"size\":[2005],\"sizemode\":\"area\",\"sizeref\":6.6725,\"symbol\":\"circle\"},\"mode\":\"markers\",\"name\":\"Burnley\",\"orientation\":\"v\",\"showlegend\":true,\"type\":\"scatter\",\"x\":[500],\"xaxis\":\"x\",\"y\":[27.5],\"yaxis\":\"y\"},{\"hovertemplate\":\"Squad=Chelsea<br>Att 3rd=%{x}<br>Percentage Success=%{y}<br>Pressures=%{marker.size}<extra></extra>\",\"legendgroup\":\"Chelsea\",\"marker\":{\"color\":\"#19d3f3\",\"size\":[2285],\"sizemode\":\"area\",\"sizeref\":6.6725,\"symbol\":\"circle\"},\"mode\":\"markers\",\"name\":\"Chelsea\",\"orientation\":\"v\",\"showlegend\":true,\"type\":\"scatter\",\"x\":[597],\"xaxis\":\"x\",\"y\":[31.3],\"yaxis\":\"y\"},{\"hovertemplate\":\"Squad=Crystal Palace<br>Att 3rd=%{x}<br>Percentage Success=%{y}<br>Pressures=%{marker.size}<extra></extra>\",\"legendgroup\":\"Crystal Palace\",\"marker\":{\"color\":\"#FF6692\",\"size\":[2531],\"sizemode\":\"area\",\"sizeref\":6.6725,\"symbol\":\"circle\"},\"mode\":\"markers\",\"name\":\"Crystal Palace\",\"orientation\":\"v\",\"showlegend\":true,\"type\":\"scatter\",\"x\":[531],\"xaxis\":\"x\",\"y\":[29.4],\"yaxis\":\"y\"},{\"hovertemplate\":\"Squad=Everton<br>Att 3rd=%{x}<br>Percentage Success=%{y}<br>Pressures=%{marker.size}<extra></extra>\",\"legendgroup\":\"Everton\",\"marker\":{\"color\":\"#B6E880\",\"size\":[2503],\"sizemode\":\"area\",\"sizeref\":6.6725,\"symbol\":\"circle\"},\"mode\":\"markers\",\"name\":\"Everton\",\"orientation\":\"v\",\"showlegend\":true,\"type\":\"scatter\",\"x\":[547],\"xaxis\":\"x\",\"y\":[30.4],\"yaxis\":\"y\"},{\"hovertemplate\":\"Squad=Leeds United<br>Att 3rd=%{x}<br>Percentage Success=%{y}<br>Pressures=%{marker.size}<extra></extra>\",\"legendgroup\":\"Leeds United\",\"marker\":{\"color\":\"#FF97FF\",\"size\":[2669],\"sizemode\":\"area\",\"sizeref\":6.6725,\"symbol\":\"circle\"},\"mode\":\"markers\",\"name\":\"Leeds United\",\"orientation\":\"v\",\"showlegend\":true,\"type\":\"scatter\",\"x\":[605],\"xaxis\":\"x\",\"y\":[31.1],\"yaxis\":\"y\"},{\"hovertemplate\":\"Squad=Leicester City<br>Att 3rd=%{x}<br>Percentage Success=%{y}<br>Pressures=%{marker.size}<extra></extra>\",\"legendgroup\":\"Leicester City\",\"marker\":{\"color\":\"#FECB52\",\"size\":[2491],\"sizemode\":\"area\",\"sizeref\":6.6725,\"symbol\":\"circle\"},\"mode\":\"markers\",\"name\":\"Leicester City\",\"orientation\":\"v\",\"showlegend\":true,\"type\":\"scatter\",\"x\":[516],\"xaxis\":\"x\",\"y\":[29.1],\"yaxis\":\"y\"},{\"hovertemplate\":\"Squad=Liverpool<br>Att 3rd=%{x}<br>Percentage Success=%{y}<br>Pressures=%{marker.size}<extra></extra>\",\"legendgroup\":\"Liverpool\",\"marker\":{\"color\":\"#636efa\",\"size\":[2218],\"sizemode\":\"area\",\"sizeref\":6.6725,\"symbol\":\"circle\"},\"mode\":\"markers\",\"name\":\"Liverpool\",\"orientation\":\"v\",\"showlegend\":true,\"type\":\"scatter\",\"x\":[682],\"xaxis\":\"x\",\"y\":[30.7],\"yaxis\":\"y\"},{\"hovertemplate\":\"Squad=Manchester City<br>Att 3rd=%{x}<br>Percentage Success=%{y}<br>Pressures=%{marker.size}<extra></extra>\",\"legendgroup\":\"Manchester City\",\"marker\":{\"color\":\"#EF553B\",\"size\":[1874],\"sizemode\":\"area\",\"sizeref\":6.6725,\"symbol\":\"circle\"},\"mode\":\"markers\",\"name\":\"Manchester City\",\"orientation\":\"v\",\"showlegend\":true,\"type\":\"scatter\",\"x\":[593],\"xaxis\":\"x\",\"y\":[31.1],\"yaxis\":\"y\"},{\"hovertemplate\":\"Squad=Manchester Utd<br>Att 3rd=%{x}<br>Percentage Success=%{y}<br>Pressures=%{marker.size}<extra></extra>\",\"legendgroup\":\"Manchester Utd\",\"marker\":{\"color\":\"#00cc96\",\"size\":[2043],\"sizemode\":\"area\",\"sizeref\":6.6725,\"symbol\":\"circle\"},\"mode\":\"markers\",\"name\":\"Manchester Utd\",\"orientation\":\"v\",\"showlegend\":true,\"type\":\"scatter\",\"x\":[463],\"xaxis\":\"x\",\"y\":[29.0],\"yaxis\":\"y\"},{\"hovertemplate\":\"Squad=Newcastle Utd<br>Att 3rd=%{x}<br>Percentage Success=%{y}<br>Pressures=%{marker.size}<extra></extra>\",\"legendgroup\":\"Newcastle Utd\",\"marker\":{\"color\":\"#ab63fa\",\"size\":[2167],\"sizemode\":\"area\",\"sizeref\":6.6725,\"symbol\":\"circle\"},\"mode\":\"markers\",\"name\":\"Newcastle Utd\",\"orientation\":\"v\",\"showlegend\":true,\"type\":\"scatter\",\"x\":[402],\"xaxis\":\"x\",\"y\":[26.5],\"yaxis\":\"y\"},{\"hovertemplate\":\"Squad=Norwich City<br>Att 3rd=%{x}<br>Percentage Success=%{y}<br>Pressures=%{marker.size}<extra></extra>\",\"legendgroup\":\"Norwich City\",\"marker\":{\"color\":\"#FFA15A\",\"size\":[2468],\"sizemode\":\"area\",\"sizeref\":6.6725,\"symbol\":\"circle\"},\"mode\":\"markers\",\"name\":\"Norwich City\",\"orientation\":\"v\",\"showlegend\":true,\"type\":\"scatter\",\"x\":[512],\"xaxis\":\"x\",\"y\":[26.9],\"yaxis\":\"y\"},{\"hovertemplate\":\"Squad=Southampton<br>Att 3rd=%{x}<br>Percentage Success=%{y}<br>Pressures=%{marker.size}<extra></extra>\",\"legendgroup\":\"Southampton\",\"marker\":{\"color\":\"#19d3f3\",\"size\":[2424],\"sizemode\":\"area\",\"sizeref\":6.6725,\"symbol\":\"circle\"},\"mode\":\"markers\",\"name\":\"Southampton\",\"orientation\":\"v\",\"showlegend\":true,\"type\":\"scatter\",\"x\":[635],\"xaxis\":\"x\",\"y\":[30.7],\"yaxis\":\"y\"},{\"hovertemplate\":\"Squad=Tottenham<br>Att 3rd=%{x}<br>Percentage Success=%{y}<br>Pressures=%{marker.size}<extra></extra>\",\"legendgroup\":\"Tottenham\",\"marker\":{\"color\":\"#FF6692\",\"size\":[2079],\"sizemode\":\"area\",\"sizeref\":6.6725,\"symbol\":\"circle\"},\"mode\":\"markers\",\"name\":\"Tottenham\",\"orientation\":\"v\",\"showlegend\":true,\"type\":\"scatter\",\"x\":[397],\"xaxis\":\"x\",\"y\":[28.1],\"yaxis\":\"y\"},{\"hovertemplate\":\"Squad=Watford<br>Att 3rd=%{x}<br>Percentage Success=%{y}<br>Pressures=%{marker.size}<extra></extra>\",\"legendgroup\":\"Watford\",\"marker\":{\"color\":\"#B6E880\",\"size\":[2333],\"sizemode\":\"area\",\"sizeref\":6.6725,\"symbol\":\"circle\"},\"mode\":\"markers\",\"name\":\"Watford\",\"orientation\":\"v\",\"showlegend\":true,\"type\":\"scatter\",\"x\":[536],\"xaxis\":\"x\",\"y\":[28.4],\"yaxis\":\"y\"},{\"hovertemplate\":\"Squad=West Ham<br>Att 3rd=%{x}<br>Percentage Success=%{y}<br>Pressures=%{marker.size}<extra></extra>\",\"legendgroup\":\"West Ham\",\"marker\":{\"color\":\"#FF97FF\",\"size\":[2129],\"sizemode\":\"area\",\"sizeref\":6.6725,\"symbol\":\"circle\"},\"mode\":\"markers\",\"name\":\"West Ham\",\"orientation\":\"v\",\"showlegend\":true,\"type\":\"scatter\",\"x\":[433],\"xaxis\":\"x\",\"y\":[27.9],\"yaxis\":\"y\"},{\"hovertemplate\":\"Squad=Wolves<br>Att 3rd=%{x}<br>Percentage Success=%{y}<br>Pressures=%{marker.size}<extra></extra>\",\"legendgroup\":\"Wolves\",\"marker\":{\"color\":\"#FECB52\",\"size\":[2255],\"sizemode\":\"area\",\"sizeref\":6.6725,\"symbol\":\"circle\"},\"mode\":\"markers\",\"name\":\"Wolves\",\"orientation\":\"v\",\"showlegend\":true,\"type\":\"scatter\",\"x\":[384],\"xaxis\":\"x\",\"y\":[30.3],\"yaxis\":\"y\"}],                        {\"legend\":{\"itemsizing\":\"constant\",\"title\":{\"text\":\"Squad\"},\"tracegroupgap\":0},\"margin\":{\"t\":60},\"template\":{\"data\":{\"bar\":[{\"error_x\":{\"color\":\"#2a3f5f\"},\"error_y\":{\"color\":\"#2a3f5f\"},\"marker\":{\"line\":{\"color\":\"#E5ECF6\",\"width\":0.5},\"pattern\":{\"fillmode\":\"overlay\",\"size\":10,\"solidity\":0.2}},\"type\":\"bar\"}],\"barpolar\":[{\"marker\":{\"line\":{\"color\":\"#E5ECF6\",\"width\":0.5},\"pattern\":{\"fillmode\":\"overlay\",\"size\":10,\"solidity\":0.2}},\"type\":\"barpolar\"}],\"carpet\":[{\"aaxis\":{\"endlinecolor\":\"#2a3f5f\",\"gridcolor\":\"white\",\"linecolor\":\"white\",\"minorgridcolor\":\"white\",\"startlinecolor\":\"#2a3f5f\"},\"baxis\":{\"endlinecolor\":\"#2a3f5f\",\"gridcolor\":\"white\",\"linecolor\":\"white\",\"minorgridcolor\":\"white\",\"startlinecolor\":\"#2a3f5f\"},\"type\":\"carpet\"}],\"choropleth\":[{\"colorbar\":{\"outlinewidth\":0,\"ticks\":\"\"},\"type\":\"choropleth\"}],\"contour\":[{\"colorbar\":{\"outlinewidth\":0,\"ticks\":\"\"},\"colorscale\":[[0.0,\"#0d0887\"],[0.1111111111111111,\"#46039f\"],[0.2222222222222222,\"#7201a8\"],[0.3333333333333333,\"#9c179e\"],[0.4444444444444444,\"#bd3786\"],[0.5555555555555556,\"#d8576b\"],[0.6666666666666666,\"#ed7953\"],[0.7777777777777778,\"#fb9f3a\"],[0.8888888888888888,\"#fdca26\"],[1.0,\"#f0f921\"]],\"type\":\"contour\"}],\"contourcarpet\":[{\"colorbar\":{\"outlinewidth\":0,\"ticks\":\"\"},\"type\":\"contourcarpet\"}],\"heatmap\":[{\"colorbar\":{\"outlinewidth\":0,\"ticks\":\"\"},\"colorscale\":[[0.0,\"#0d0887\"],[0.1111111111111111,\"#46039f\"],[0.2222222222222222,\"#7201a8\"],[0.3333333333333333,\"#9c179e\"],[0.4444444444444444,\"#bd3786\"],[0.5555555555555556,\"#d8576b\"],[0.6666666666666666,\"#ed7953\"],[0.7777777777777778,\"#fb9f3a\"],[0.8888888888888888,\"#fdca26\"],[1.0,\"#f0f921\"]],\"type\":\"heatmap\"}],\"heatmapgl\":[{\"colorbar\":{\"outlinewidth\":0,\"ticks\":\"\"},\"colorscale\":[[0.0,\"#0d0887\"],[0.1111111111111111,\"#46039f\"],[0.2222222222222222,\"#7201a8\"],[0.3333333333333333,\"#9c179e\"],[0.4444444444444444,\"#bd3786\"],[0.5555555555555556,\"#d8576b\"],[0.6666666666666666,\"#ed7953\"],[0.7777777777777778,\"#fb9f3a\"],[0.8888888888888888,\"#fdca26\"],[1.0,\"#f0f921\"]],\"type\":\"heatmapgl\"}],\"histogram\":[{\"marker\":{\"pattern\":{\"fillmode\":\"overlay\",\"size\":10,\"solidity\":0.2}},\"type\":\"histogram\"}],\"histogram2d\":[{\"colorbar\":{\"outlinewidth\":0,\"ticks\":\"\"},\"colorscale\":[[0.0,\"#0d0887\"],[0.1111111111111111,\"#46039f\"],[0.2222222222222222,\"#7201a8\"],[0.3333333333333333,\"#9c179e\"],[0.4444444444444444,\"#bd3786\"],[0.5555555555555556,\"#d8576b\"],[0.6666666666666666,\"#ed7953\"],[0.7777777777777778,\"#fb9f3a\"],[0.8888888888888888,\"#fdca26\"],[1.0,\"#f0f921\"]],\"type\":\"histogram2d\"}],\"histogram2dcontour\":[{\"colorbar\":{\"outlinewidth\":0,\"ticks\":\"\"},\"colorscale\":[[0.0,\"#0d0887\"],[0.1111111111111111,\"#46039f\"],[0.2222222222222222,\"#7201a8\"],[0.3333333333333333,\"#9c179e\"],[0.4444444444444444,\"#bd3786\"],[0.5555555555555556,\"#d8576b\"],[0.6666666666666666,\"#ed7953\"],[0.7777777777777778,\"#fb9f3a\"],[0.8888888888888888,\"#fdca26\"],[1.0,\"#f0f921\"]],\"type\":\"histogram2dcontour\"}],\"mesh3d\":[{\"colorbar\":{\"outlinewidth\":0,\"ticks\":\"\"},\"type\":\"mesh3d\"}],\"parcoords\":[{\"line\":{\"colorbar\":{\"outlinewidth\":0,\"ticks\":\"\"}},\"type\":\"parcoords\"}],\"pie\":[{\"automargin\":true,\"type\":\"pie\"}],\"scatter\":[{\"marker\":{\"colorbar\":{\"outlinewidth\":0,\"ticks\":\"\"}},\"type\":\"scatter\"}],\"scatter3d\":[{\"line\":{\"colorbar\":{\"outlinewidth\":0,\"ticks\":\"\"}},\"marker\":{\"colorbar\":{\"outlinewidth\":0,\"ticks\":\"\"}},\"type\":\"scatter3d\"}],\"scattercarpet\":[{\"marker\":{\"colorbar\":{\"outlinewidth\":0,\"ticks\":\"\"}},\"type\":\"scattercarpet\"}],\"scattergeo\":[{\"marker\":{\"colorbar\":{\"outlinewidth\":0,\"ticks\":\"\"}},\"type\":\"scattergeo\"}],\"scattergl\":[{\"marker\":{\"colorbar\":{\"outlinewidth\":0,\"ticks\":\"\"}},\"type\":\"scattergl\"}],\"scattermapbox\":[{\"marker\":{\"colorbar\":{\"outlinewidth\":0,\"ticks\":\"\"}},\"type\":\"scattermapbox\"}],\"scatterpolar\":[{\"marker\":{\"colorbar\":{\"outlinewidth\":0,\"ticks\":\"\"}},\"type\":\"scatterpolar\"}],\"scatterpolargl\":[{\"marker\":{\"colorbar\":{\"outlinewidth\":0,\"ticks\":\"\"}},\"type\":\"scatterpolargl\"}],\"scatterternary\":[{\"marker\":{\"colorbar\":{\"outlinewidth\":0,\"ticks\":\"\"}},\"type\":\"scatterternary\"}],\"surface\":[{\"colorbar\":{\"outlinewidth\":0,\"ticks\":\"\"},\"colorscale\":[[0.0,\"#0d0887\"],[0.1111111111111111,\"#46039f\"],[0.2222222222222222,\"#7201a8\"],[0.3333333333333333,\"#9c179e\"],[0.4444444444444444,\"#bd3786\"],[0.5555555555555556,\"#d8576b\"],[0.6666666666666666,\"#ed7953\"],[0.7777777777777778,\"#fb9f3a\"],[0.8888888888888888,\"#fdca26\"],[1.0,\"#f0f921\"]],\"type\":\"surface\"}],\"table\":[{\"cells\":{\"fill\":{\"color\":\"#EBF0F8\"},\"line\":{\"color\":\"white\"}},\"header\":{\"fill\":{\"color\":\"#C8D4E3\"},\"line\":{\"color\":\"white\"}},\"type\":\"table\"}]},\"layout\":{\"annotationdefaults\":{\"arrowcolor\":\"#2a3f5f\",\"arrowhead\":0,\"arrowwidth\":1},\"autotypenumbers\":\"strict\",\"coloraxis\":{\"colorbar\":{\"outlinewidth\":0,\"ticks\":\"\"}},\"colorscale\":{\"diverging\":[[0,\"#8e0152\"],[0.1,\"#c51b7d\"],[0.2,\"#de77ae\"],[0.3,\"#f1b6da\"],[0.4,\"#fde0ef\"],[0.5,\"#f7f7f7\"],[0.6,\"#e6f5d0\"],[0.7,\"#b8e186\"],[0.8,\"#7fbc41\"],[0.9,\"#4d9221\"],[1,\"#276419\"]],\"sequential\":[[0.0,\"#0d0887\"],[0.1111111111111111,\"#46039f\"],[0.2222222222222222,\"#7201a8\"],[0.3333333333333333,\"#9c179e\"],[0.4444444444444444,\"#bd3786\"],[0.5555555555555556,\"#d8576b\"],[0.6666666666666666,\"#ed7953\"],[0.7777777777777778,\"#fb9f3a\"],[0.8888888888888888,\"#fdca26\"],[1.0,\"#f0f921\"]],\"sequentialminus\":[[0.0,\"#0d0887\"],[0.1111111111111111,\"#46039f\"],[0.2222222222222222,\"#7201a8\"],[0.3333333333333333,\"#9c179e\"],[0.4444444444444444,\"#bd3786\"],[0.5555555555555556,\"#d8576b\"],[0.6666666666666666,\"#ed7953\"],[0.7777777777777778,\"#fb9f3a\"],[0.8888888888888888,\"#fdca26\"],[1.0,\"#f0f921\"]]},\"colorway\":[\"#636efa\",\"#EF553B\",\"#00cc96\",\"#ab63fa\",\"#FFA15A\",\"#19d3f3\",\"#FF6692\",\"#B6E880\",\"#FF97FF\",\"#FECB52\"],\"font\":{\"color\":\"#2a3f5f\"},\"geo\":{\"bgcolor\":\"white\",\"lakecolor\":\"white\",\"landcolor\":\"#E5ECF6\",\"showlakes\":true,\"showland\":true,\"subunitcolor\":\"white\"},\"hoverlabel\":{\"align\":\"left\"},\"hovermode\":\"closest\",\"mapbox\":{\"style\":\"light\"},\"paper_bgcolor\":\"white\",\"plot_bgcolor\":\"#E5ECF6\",\"polar\":{\"angularaxis\":{\"gridcolor\":\"white\",\"linecolor\":\"white\",\"ticks\":\"\"},\"bgcolor\":\"#E5ECF6\",\"radialaxis\":{\"gridcolor\":\"white\",\"linecolor\":\"white\",\"ticks\":\"\"}},\"scene\":{\"xaxis\":{\"backgroundcolor\":\"#E5ECF6\",\"gridcolor\":\"white\",\"gridwidth\":2,\"linecolor\":\"white\",\"showbackground\":true,\"ticks\":\"\",\"zerolinecolor\":\"white\"},\"yaxis\":{\"backgroundcolor\":\"#E5ECF6\",\"gridcolor\":\"white\",\"gridwidth\":2,\"linecolor\":\"white\",\"showbackground\":true,\"ticks\":\"\",\"zerolinecolor\":\"white\"},\"zaxis\":{\"backgroundcolor\":\"#E5ECF6\",\"gridcolor\":\"white\",\"gridwidth\":2,\"linecolor\":\"white\",\"showbackground\":true,\"ticks\":\"\",\"zerolinecolor\":\"white\"}},\"shapedefaults\":{\"line\":{\"color\":\"#2a3f5f\"}},\"ternary\":{\"aaxis\":{\"gridcolor\":\"white\",\"linecolor\":\"white\",\"ticks\":\"\"},\"baxis\":{\"gridcolor\":\"white\",\"linecolor\":\"white\",\"ticks\":\"\"},\"bgcolor\":\"#E5ECF6\",\"caxis\":{\"gridcolor\":\"white\",\"linecolor\":\"white\",\"ticks\":\"\"}},\"title\":{\"x\":0.05},\"xaxis\":{\"automargin\":true,\"gridcolor\":\"white\",\"linecolor\":\"white\",\"ticks\":\"\",\"title\":{\"standoff\":15},\"zerolinecolor\":\"white\",\"zerolinewidth\":2},\"yaxis\":{\"automargin\":true,\"gridcolor\":\"white\",\"linecolor\":\"white\",\"ticks\":\"\",\"title\":{\"standoff\":15},\"zerolinecolor\":\"white\",\"zerolinewidth\":2}}},\"title\":{\"text\":\"<b>Efficacy of Pressing in the Premier League</b><br><span style=\\\"font-size: 13px;\\\"><i>Data source: Fbref (data from Statbomb)</i>\"},\"xaxis\":{\"anchor\":\"y\",\"domain\":[0.0,1.0],\"title\":{\"text\":\"No of Pressures in the Attacking 3rd\"}},\"yaxis\":{\"anchor\":\"x\",\"domain\":[0.0,1.0],\"title\":{\"text\":\"Successful Pressures(%)\"}}},                        {\"responsive\": true}                    ).then(function(){\n",
       "                            \n",
       "var gd = document.getElementById('b604233c-be87-406c-ac09-f5a4cddf9373');\n",
       "var x = new MutationObserver(function (mutations, observer) {{\n",
       "        var display = window.getComputedStyle(gd).display;\n",
       "        if (!display || display === 'none') {{\n",
       "            console.log([gd, 'removed!']);\n",
       "            Plotly.purge(gd);\n",
       "            observer.disconnect();\n",
       "        }}\n",
       "}});\n",
       "\n",
       "// Listen for the removal of the full notebook cells\n",
       "var notebookContainer = gd.closest('#notebook-container');\n",
       "if (notebookContainer) {{\n",
       "    x.observe(notebookContainer, {childList: true});\n",
       "}}\n",
       "\n",
       "// Listen for the clearing of the current output cell\n",
       "var outputEl = gd.closest('.output');\n",
       "if (outputEl) {{\n",
       "    x.observe(outputEl, {childList: true});\n",
       "}}\n",
       "\n",
       "                        })                };                });            </script>        </div>"
      ]
     },
     "metadata": {},
     "output_type": "display_data"
    }
   ],
   "source": [
    "import plotly.express as px\n",
    "\n",
    "df.rename(columns={'Presssures': 'Pressures'}, inplace=True)\n",
    "\n",
    "fig = px.scatter(df,\n",
    "                x=\"Att 3rd\",\n",
    "                y=\"Percentage Success\",\n",
    "                size=\"Pressures\",\n",
    "                color=\"Squad\")\n",
    "#To configure the layout of the plot\n",
    "fig.update_layout(\n",
    "    title = '<b>Efficacy of Pressing in the Premier League</b>'+'<br>'+'<span style=\"font-size: 13px;\"><i>Data source: Fbref (data from Statbomb)</i>',\n",
    "    xaxis_title = 'No of Pressures in the Attacking 3rd',\n",
    "    yaxis_title = 'Successful Pressures(%)',\n",
    ")\n",
    "\n",
    "fig.show()"
   ]
  },
  {
   "cell_type": "code",
   "execution_count": 107,
   "id": "d1db6ddc",
   "metadata": {},
   "outputs": [
    {
     "data": {
      "application/vnd.plotly.v1+json": {
       "config": {
        "plotlyServerURL": "https://plot.ly"
       },
       "data": [
        {
         "marker": {
          "color": "#5D69B1",
          "size": 8
         },
         "mode": "markers+text",
         "name": "citations",
         "text": [
          "Arsenal",
          "Aston Villa",
          "Brentford",
          "Brighton",
          "Burnley",
          "Chelsea",
          "Crystal Palace",
          "Everton",
          "Leeds United",
          "Leicester City",
          "Liverpool",
          "Manchester City",
          "Manchester Utd",
          "Newcastle Utd",
          "Norwich City",
          "Southampton",
          "Tottenham",
          "Watford",
          "West Ham",
          "Wolves"
         ],
         "textfont": {
          "color": "#E88600"
         },
         "textposition": "top right",
         "type": "scatter",
         "x": [
          532,
          497,
          529,
          569,
          500,
          597,
          531,
          547,
          605,
          516,
          682,
          593,
          463,
          402,
          512,
          635,
          397,
          536,
          433,
          384
         ],
         "y": [
          28.9,
          27.6,
          30.3,
          31,
          27.5,
          31.3,
          29.4,
          30.4,
          31.1,
          29.1,
          30.7,
          31.1,
          29,
          26.5,
          26.9,
          30.7,
          28.1,
          28.4,
          27.9,
          30.3
         ]
        }
       ],
       "layout": {
        "annotations": [
         {
          "align": "left",
          "font": {
           "color": "grey",
           "size": 10
          },
          "showarrow": false,
          "text": "@joeladejola/ 2021-12-13",
          "x": 0,
          "xanchor": "left",
          "xref": "paper",
          "xshift": -1,
          "y": -0.15,
          "yanchor": "bottom",
          "yref": "paper",
          "yshift": -1
         },
         {
          "align": "left",
          "arrowcolor": "#636363",
          "arrowhead": 1,
          "arrowsize": 1,
          "arrowwidth": 2,
          "ax": -20,
          "ay": -30,
          "bgcolor": "#CFECEC",
          "bordercolor": "green",
          "borderwidth": 2,
          "font": {
           "color": "black",
           "family": "Courier New, monospace",
           "size": 12
          },
          "opacity": 0.8,
          "showarrow": false,
          "text": "No teams with High <br>Pressures in the Att. 3rd <br> and with Low Success Rate",
          "x": "650",
          "y": 27,
          "yanchor": "bottom"
         },
         {
          "align": "left",
          "arrowcolor": "#636363",
          "arrowhead": 1,
          "arrowsize": 1,
          "arrowwidth": 2,
          "ax": -20,
          "ay": -30,
          "bgcolor": "#CFECEC",
          "bordercolor": "green",
          "borderwidth": 2,
          "font": {
           "color": "black",
           "family": "Courier New, monospace",
           "size": 12
          },
          "opacity": 0.8,
          "showarrow": false,
          "text": "Southampton and Liverpool <br>are the most accomplished pressers <br> in the league",
          "x": "650",
          "y": 29.5,
          "yanchor": "bottom"
         },
         {
          "align": "left",
          "arrowcolor": "#636363",
          "arrowhead": 1,
          "arrowsize": 1,
          "arrowwidth": 2,
          "ax": -20,
          "ay": -30,
          "bgcolor": "#CFECEC",
          "bordercolor": "green",
          "borderwidth": 2,
          "font": {
           "color": "black",
           "family": "Courier New, monospace",
           "size": 12
          },
          "opacity": 0.8,
          "showarrow": false,
          "text": "Most teams press deeper<br>with relatively Lower Success Rate",
          "x": "420",
          "y": 27,
          "yanchor": "bottom"
         },
         {
          "align": "left",
          "arrowcolor": "#636363",
          "arrowhead": 1,
          "arrowsize": 1,
          "arrowwidth": 2,
          "ax": -20,
          "ay": -30,
          "bgcolor": "#CFECEC",
          "bordercolor": "green",
          "borderwidth": 2,
          "font": {
           "color": "black",
           "family": "Courier New, monospace",
           "size": 12
          },
          "opacity": 0.8,
          "showarrow": false,
          "text": "Only Wolves press deeper<br>and maintain High Success Rate",
          "x": "400",
          "y": 31,
          "yanchor": "bottom"
         }
        ],
        "margin": {
         "b": 65,
         "l": 50,
         "r": 50,
         "t": 60
        },
        "plot_bgcolor": "light blue",
        "template": {
         "data": {
          "bar": [
           {
            "error_x": {
             "color": "#2a3f5f"
            },
            "error_y": {
             "color": "#2a3f5f"
            },
            "marker": {
             "line": {
              "color": "#E5ECF6",
              "width": 0.5
             },
             "pattern": {
              "fillmode": "overlay",
              "size": 10,
              "solidity": 0.2
             }
            },
            "type": "bar"
           }
          ],
          "barpolar": [
           {
            "marker": {
             "line": {
              "color": "#E5ECF6",
              "width": 0.5
             },
             "pattern": {
              "fillmode": "overlay",
              "size": 10,
              "solidity": 0.2
             }
            },
            "type": "barpolar"
           }
          ],
          "carpet": [
           {
            "aaxis": {
             "endlinecolor": "#2a3f5f",
             "gridcolor": "white",
             "linecolor": "white",
             "minorgridcolor": "white",
             "startlinecolor": "#2a3f5f"
            },
            "baxis": {
             "endlinecolor": "#2a3f5f",
             "gridcolor": "white",
             "linecolor": "white",
             "minorgridcolor": "white",
             "startlinecolor": "#2a3f5f"
            },
            "type": "carpet"
           }
          ],
          "choropleth": [
           {
            "colorbar": {
             "outlinewidth": 0,
             "ticks": ""
            },
            "type": "choropleth"
           }
          ],
          "contour": [
           {
            "colorbar": {
             "outlinewidth": 0,
             "ticks": ""
            },
            "colorscale": [
             [
              0,
              "#0d0887"
             ],
             [
              0.1111111111111111,
              "#46039f"
             ],
             [
              0.2222222222222222,
              "#7201a8"
             ],
             [
              0.3333333333333333,
              "#9c179e"
             ],
             [
              0.4444444444444444,
              "#bd3786"
             ],
             [
              0.5555555555555556,
              "#d8576b"
             ],
             [
              0.6666666666666666,
              "#ed7953"
             ],
             [
              0.7777777777777778,
              "#fb9f3a"
             ],
             [
              0.8888888888888888,
              "#fdca26"
             ],
             [
              1,
              "#f0f921"
             ]
            ],
            "type": "contour"
           }
          ],
          "contourcarpet": [
           {
            "colorbar": {
             "outlinewidth": 0,
             "ticks": ""
            },
            "type": "contourcarpet"
           }
          ],
          "heatmap": [
           {
            "colorbar": {
             "outlinewidth": 0,
             "ticks": ""
            },
            "colorscale": [
             [
              0,
              "#0d0887"
             ],
             [
              0.1111111111111111,
              "#46039f"
             ],
             [
              0.2222222222222222,
              "#7201a8"
             ],
             [
              0.3333333333333333,
              "#9c179e"
             ],
             [
              0.4444444444444444,
              "#bd3786"
             ],
             [
              0.5555555555555556,
              "#d8576b"
             ],
             [
              0.6666666666666666,
              "#ed7953"
             ],
             [
              0.7777777777777778,
              "#fb9f3a"
             ],
             [
              0.8888888888888888,
              "#fdca26"
             ],
             [
              1,
              "#f0f921"
             ]
            ],
            "type": "heatmap"
           }
          ],
          "heatmapgl": [
           {
            "colorbar": {
             "outlinewidth": 0,
             "ticks": ""
            },
            "colorscale": [
             [
              0,
              "#0d0887"
             ],
             [
              0.1111111111111111,
              "#46039f"
             ],
             [
              0.2222222222222222,
              "#7201a8"
             ],
             [
              0.3333333333333333,
              "#9c179e"
             ],
             [
              0.4444444444444444,
              "#bd3786"
             ],
             [
              0.5555555555555556,
              "#d8576b"
             ],
             [
              0.6666666666666666,
              "#ed7953"
             ],
             [
              0.7777777777777778,
              "#fb9f3a"
             ],
             [
              0.8888888888888888,
              "#fdca26"
             ],
             [
              1,
              "#f0f921"
             ]
            ],
            "type": "heatmapgl"
           }
          ],
          "histogram": [
           {
            "marker": {
             "pattern": {
              "fillmode": "overlay",
              "size": 10,
              "solidity": 0.2
             }
            },
            "type": "histogram"
           }
          ],
          "histogram2d": [
           {
            "colorbar": {
             "outlinewidth": 0,
             "ticks": ""
            },
            "colorscale": [
             [
              0,
              "#0d0887"
             ],
             [
              0.1111111111111111,
              "#46039f"
             ],
             [
              0.2222222222222222,
              "#7201a8"
             ],
             [
              0.3333333333333333,
              "#9c179e"
             ],
             [
              0.4444444444444444,
              "#bd3786"
             ],
             [
              0.5555555555555556,
              "#d8576b"
             ],
             [
              0.6666666666666666,
              "#ed7953"
             ],
             [
              0.7777777777777778,
              "#fb9f3a"
             ],
             [
              0.8888888888888888,
              "#fdca26"
             ],
             [
              1,
              "#f0f921"
             ]
            ],
            "type": "histogram2d"
           }
          ],
          "histogram2dcontour": [
           {
            "colorbar": {
             "outlinewidth": 0,
             "ticks": ""
            },
            "colorscale": [
             [
              0,
              "#0d0887"
             ],
             [
              0.1111111111111111,
              "#46039f"
             ],
             [
              0.2222222222222222,
              "#7201a8"
             ],
             [
              0.3333333333333333,
              "#9c179e"
             ],
             [
              0.4444444444444444,
              "#bd3786"
             ],
             [
              0.5555555555555556,
              "#d8576b"
             ],
             [
              0.6666666666666666,
              "#ed7953"
             ],
             [
              0.7777777777777778,
              "#fb9f3a"
             ],
             [
              0.8888888888888888,
              "#fdca26"
             ],
             [
              1,
              "#f0f921"
             ]
            ],
            "type": "histogram2dcontour"
           }
          ],
          "mesh3d": [
           {
            "colorbar": {
             "outlinewidth": 0,
             "ticks": ""
            },
            "type": "mesh3d"
           }
          ],
          "parcoords": [
           {
            "line": {
             "colorbar": {
              "outlinewidth": 0,
              "ticks": ""
             }
            },
            "type": "parcoords"
           }
          ],
          "pie": [
           {
            "automargin": true,
            "type": "pie"
           }
          ],
          "scatter": [
           {
            "marker": {
             "colorbar": {
              "outlinewidth": 0,
              "ticks": ""
             }
            },
            "type": "scatter"
           }
          ],
          "scatter3d": [
           {
            "line": {
             "colorbar": {
              "outlinewidth": 0,
              "ticks": ""
             }
            },
            "marker": {
             "colorbar": {
              "outlinewidth": 0,
              "ticks": ""
             }
            },
            "type": "scatter3d"
           }
          ],
          "scattercarpet": [
           {
            "marker": {
             "colorbar": {
              "outlinewidth": 0,
              "ticks": ""
             }
            },
            "type": "scattercarpet"
           }
          ],
          "scattergeo": [
           {
            "marker": {
             "colorbar": {
              "outlinewidth": 0,
              "ticks": ""
             }
            },
            "type": "scattergeo"
           }
          ],
          "scattergl": [
           {
            "marker": {
             "colorbar": {
              "outlinewidth": 0,
              "ticks": ""
             }
            },
            "type": "scattergl"
           }
          ],
          "scattermapbox": [
           {
            "marker": {
             "colorbar": {
              "outlinewidth": 0,
              "ticks": ""
             }
            },
            "type": "scattermapbox"
           }
          ],
          "scatterpolar": [
           {
            "marker": {
             "colorbar": {
              "outlinewidth": 0,
              "ticks": ""
             }
            },
            "type": "scatterpolar"
           }
          ],
          "scatterpolargl": [
           {
            "marker": {
             "colorbar": {
              "outlinewidth": 0,
              "ticks": ""
             }
            },
            "type": "scatterpolargl"
           }
          ],
          "scatterternary": [
           {
            "marker": {
             "colorbar": {
              "outlinewidth": 0,
              "ticks": ""
             }
            },
            "type": "scatterternary"
           }
          ],
          "surface": [
           {
            "colorbar": {
             "outlinewidth": 0,
             "ticks": ""
            },
            "colorscale": [
             [
              0,
              "#0d0887"
             ],
             [
              0.1111111111111111,
              "#46039f"
             ],
             [
              0.2222222222222222,
              "#7201a8"
             ],
             [
              0.3333333333333333,
              "#9c179e"
             ],
             [
              0.4444444444444444,
              "#bd3786"
             ],
             [
              0.5555555555555556,
              "#d8576b"
             ],
             [
              0.6666666666666666,
              "#ed7953"
             ],
             [
              0.7777777777777778,
              "#fb9f3a"
             ],
             [
              0.8888888888888888,
              "#fdca26"
             ],
             [
              1,
              "#f0f921"
             ]
            ],
            "type": "surface"
           }
          ],
          "table": [
           {
            "cells": {
             "fill": {
              "color": "#EBF0F8"
             },
             "line": {
              "color": "white"
             }
            },
            "header": {
             "fill": {
              "color": "#C8D4E3"
             },
             "line": {
              "color": "white"
             }
            },
            "type": "table"
           }
          ]
         },
         "layout": {
          "annotationdefaults": {
           "arrowcolor": "#2a3f5f",
           "arrowhead": 0,
           "arrowwidth": 1
          },
          "autotypenumbers": "strict",
          "coloraxis": {
           "colorbar": {
            "outlinewidth": 0,
            "ticks": ""
           }
          },
          "colorscale": {
           "diverging": [
            [
             0,
             "#8e0152"
            ],
            [
             0.1,
             "#c51b7d"
            ],
            [
             0.2,
             "#de77ae"
            ],
            [
             0.3,
             "#f1b6da"
            ],
            [
             0.4,
             "#fde0ef"
            ],
            [
             0.5,
             "#f7f7f7"
            ],
            [
             0.6,
             "#e6f5d0"
            ],
            [
             0.7,
             "#b8e186"
            ],
            [
             0.8,
             "#7fbc41"
            ],
            [
             0.9,
             "#4d9221"
            ],
            [
             1,
             "#276419"
            ]
           ],
           "sequential": [
            [
             0,
             "#0d0887"
            ],
            [
             0.1111111111111111,
             "#46039f"
            ],
            [
             0.2222222222222222,
             "#7201a8"
            ],
            [
             0.3333333333333333,
             "#9c179e"
            ],
            [
             0.4444444444444444,
             "#bd3786"
            ],
            [
             0.5555555555555556,
             "#d8576b"
            ],
            [
             0.6666666666666666,
             "#ed7953"
            ],
            [
             0.7777777777777778,
             "#fb9f3a"
            ],
            [
             0.8888888888888888,
             "#fdca26"
            ],
            [
             1,
             "#f0f921"
            ]
           ],
           "sequentialminus": [
            [
             0,
             "#0d0887"
            ],
            [
             0.1111111111111111,
             "#46039f"
            ],
            [
             0.2222222222222222,
             "#7201a8"
            ],
            [
             0.3333333333333333,
             "#9c179e"
            ],
            [
             0.4444444444444444,
             "#bd3786"
            ],
            [
             0.5555555555555556,
             "#d8576b"
            ],
            [
             0.6666666666666666,
             "#ed7953"
            ],
            [
             0.7777777777777778,
             "#fb9f3a"
            ],
            [
             0.8888888888888888,
             "#fdca26"
            ],
            [
             1,
             "#f0f921"
            ]
           ]
          },
          "colorway": [
           "#636efa",
           "#EF553B",
           "#00cc96",
           "#ab63fa",
           "#FFA15A",
           "#19d3f3",
           "#FF6692",
           "#B6E880",
           "#FF97FF",
           "#FECB52"
          ],
          "font": {
           "color": "#2a3f5f"
          },
          "geo": {
           "bgcolor": "white",
           "lakecolor": "white",
           "landcolor": "#E5ECF6",
           "showlakes": true,
           "showland": true,
           "subunitcolor": "white"
          },
          "hoverlabel": {
           "align": "left"
          },
          "hovermode": "closest",
          "mapbox": {
           "style": "light"
          },
          "paper_bgcolor": "white",
          "plot_bgcolor": "#E5ECF6",
          "polar": {
           "angularaxis": {
            "gridcolor": "white",
            "linecolor": "white",
            "ticks": ""
           },
           "bgcolor": "#E5ECF6",
           "radialaxis": {
            "gridcolor": "white",
            "linecolor": "white",
            "ticks": ""
           }
          },
          "scene": {
           "xaxis": {
            "backgroundcolor": "#E5ECF6",
            "gridcolor": "white",
            "gridwidth": 2,
            "linecolor": "white",
            "showbackground": true,
            "ticks": "",
            "zerolinecolor": "white"
           },
           "yaxis": {
            "backgroundcolor": "#E5ECF6",
            "gridcolor": "white",
            "gridwidth": 2,
            "linecolor": "white",
            "showbackground": true,
            "ticks": "",
            "zerolinecolor": "white"
           },
           "zaxis": {
            "backgroundcolor": "#E5ECF6",
            "gridcolor": "white",
            "gridwidth": 2,
            "linecolor": "white",
            "showbackground": true,
            "ticks": "",
            "zerolinecolor": "white"
           }
          },
          "shapedefaults": {
           "line": {
            "color": "#2a3f5f"
           }
          },
          "ternary": {
           "aaxis": {
            "gridcolor": "white",
            "linecolor": "white",
            "ticks": ""
           },
           "baxis": {
            "gridcolor": "white",
            "linecolor": "white",
            "ticks": ""
           },
           "bgcolor": "#E5ECF6",
           "caxis": {
            "gridcolor": "white",
            "linecolor": "white",
            "ticks": ""
           }
          },
          "title": {
           "x": 0.05
          },
          "xaxis": {
           "automargin": true,
           "gridcolor": "white",
           "linecolor": "white",
           "ticks": "",
           "title": {
            "standoff": 15
           },
           "zerolinecolor": "white",
           "zerolinewidth": 2
          },
          "yaxis": {
           "automargin": true,
           "gridcolor": "white",
           "linecolor": "white",
           "ticks": "",
           "title": {
            "standoff": 15
           },
           "zerolinecolor": "white",
           "zerolinewidth": 2
          }
         }
        },
        "title": {
         "text": "<b>Efficacy of Pressing in the Premier League</b><br><span style=\"font-size: 13px;\"><i>Data source: Fbref (data from Statbomb)</i>"
        },
        "xaxis": {
         "linecolor": "#d9d9d9",
         "mirror": true,
         "range": [
          350,
          725
         ],
         "showgrid": true,
         "title": {
          "text": "No of Pressures in the Attacking 3rd"
         }
        },
        "yaxis": {
         "linecolor": "#d9d9d9",
         "mirror": true,
         "range": [
          26,
          32
         ],
         "showgrid": true,
         "title": {
          "text": "Successful Pressures(%)"
         }
        }
       }
      },
      "text/html": [
       "<div>                            <div id=\"90192080-0a3a-47c7-bd56-e9afd001f824\" class=\"plotly-graph-div\" style=\"height:525px; width:100%;\"></div>            <script type=\"text/javascript\">                require([\"plotly\"], function(Plotly) {                    window.PLOTLYENV=window.PLOTLYENV || {};                                    if (document.getElementById(\"90192080-0a3a-47c7-bd56-e9afd001f824\")) {                    Plotly.newPlot(                        \"90192080-0a3a-47c7-bd56-e9afd001f824\",                        [{\"marker\":{\"color\":\"#5D69B1\",\"size\":8},\"mode\":\"markers+text\",\"name\":\"citations\",\"text\":[\"Arsenal\",\"Aston Villa\",\"Brentford\",\"Brighton\",\"Burnley\",\"Chelsea\",\"Crystal Palace\",\"Everton\",\"Leeds United\",\"Leicester City\",\"Liverpool\",\"Manchester City\",\"Manchester Utd\",\"Newcastle Utd\",\"Norwich City\",\"Southampton\",\"Tottenham\",\"Watford\",\"West Ham\",\"Wolves\"],\"textfont\":{\"color\":\"#E88600\"},\"textposition\":\"top right\",\"type\":\"scatter\",\"x\":[532,497,529,569,500,597,531,547,605,516,682,593,463,402,512,635,397,536,433,384],\"y\":[28.9,27.6,30.3,31.0,27.5,31.3,29.4,30.4,31.1,29.1,30.7,31.1,29.0,26.5,26.9,30.7,28.1,28.4,27.9,30.3]}],                        {\"annotations\":[{\"align\":\"left\",\"font\":{\"color\":\"grey\",\"size\":10},\"showarrow\":false,\"text\":\"@joeladejola/ 2021-12-13\",\"x\":0,\"xanchor\":\"left\",\"xref\":\"paper\",\"xshift\":-1,\"y\":-0.15,\"yanchor\":\"bottom\",\"yref\":\"paper\",\"yshift\":-1},{\"align\":\"left\",\"arrowcolor\":\"#636363\",\"arrowhead\":1,\"arrowsize\":1,\"arrowwidth\":2,\"ax\":-20,\"ay\":-30,\"bgcolor\":\"#CFECEC\",\"bordercolor\":\"green\",\"borderwidth\":2,\"font\":{\"color\":\"black\",\"family\":\"Courier New, monospace\",\"size\":12},\"opacity\":0.8,\"showarrow\":false,\"text\":\"No teams with High <br>Pressures in the Att. 3rd <br> and with Low Success Rate\",\"x\":\"650\",\"y\":27,\"yanchor\":\"bottom\"},{\"align\":\"left\",\"arrowcolor\":\"#636363\",\"arrowhead\":1,\"arrowsize\":1,\"arrowwidth\":2,\"ax\":-20,\"ay\":-30,\"bgcolor\":\"#CFECEC\",\"bordercolor\":\"green\",\"borderwidth\":2,\"font\":{\"color\":\"black\",\"family\":\"Courier New, monospace\",\"size\":12},\"opacity\":0.8,\"showarrow\":false,\"text\":\"Southampton and Liverpool <br>are the most accomplished pressers <br> in the league\",\"x\":\"650\",\"y\":29.5,\"yanchor\":\"bottom\"},{\"align\":\"left\",\"arrowcolor\":\"#636363\",\"arrowhead\":1,\"arrowsize\":1,\"arrowwidth\":2,\"ax\":-20,\"ay\":-30,\"bgcolor\":\"#CFECEC\",\"bordercolor\":\"green\",\"borderwidth\":2,\"font\":{\"color\":\"black\",\"family\":\"Courier New, monospace\",\"size\":12},\"opacity\":0.8,\"showarrow\":false,\"text\":\"Most teams press deeper<br>with relatively Lower Success Rate\",\"x\":\"420\",\"y\":27,\"yanchor\":\"bottom\"},{\"align\":\"left\",\"arrowcolor\":\"#636363\",\"arrowhead\":1,\"arrowsize\":1,\"arrowwidth\":2,\"ax\":-20,\"ay\":-30,\"bgcolor\":\"#CFECEC\",\"bordercolor\":\"green\",\"borderwidth\":2,\"font\":{\"color\":\"black\",\"family\":\"Courier New, monospace\",\"size\":12},\"opacity\":0.8,\"showarrow\":false,\"text\":\"Only Wolves press deeper<br>and maintain High Success Rate\",\"x\":\"400\",\"y\":31,\"yanchor\":\"bottom\"}],\"margin\":{\"b\":65,\"l\":50,\"r\":50,\"t\":60},\"plot_bgcolor\":\"light blue\",\"template\":{\"data\":{\"bar\":[{\"error_x\":{\"color\":\"#2a3f5f\"},\"error_y\":{\"color\":\"#2a3f5f\"},\"marker\":{\"line\":{\"color\":\"#E5ECF6\",\"width\":0.5},\"pattern\":{\"fillmode\":\"overlay\",\"size\":10,\"solidity\":0.2}},\"type\":\"bar\"}],\"barpolar\":[{\"marker\":{\"line\":{\"color\":\"#E5ECF6\",\"width\":0.5},\"pattern\":{\"fillmode\":\"overlay\",\"size\":10,\"solidity\":0.2}},\"type\":\"barpolar\"}],\"carpet\":[{\"aaxis\":{\"endlinecolor\":\"#2a3f5f\",\"gridcolor\":\"white\",\"linecolor\":\"white\",\"minorgridcolor\":\"white\",\"startlinecolor\":\"#2a3f5f\"},\"baxis\":{\"endlinecolor\":\"#2a3f5f\",\"gridcolor\":\"white\",\"linecolor\":\"white\",\"minorgridcolor\":\"white\",\"startlinecolor\":\"#2a3f5f\"},\"type\":\"carpet\"}],\"choropleth\":[{\"colorbar\":{\"outlinewidth\":0,\"ticks\":\"\"},\"type\":\"choropleth\"}],\"contour\":[{\"colorbar\":{\"outlinewidth\":0,\"ticks\":\"\"},\"colorscale\":[[0.0,\"#0d0887\"],[0.1111111111111111,\"#46039f\"],[0.2222222222222222,\"#7201a8\"],[0.3333333333333333,\"#9c179e\"],[0.4444444444444444,\"#bd3786\"],[0.5555555555555556,\"#d8576b\"],[0.6666666666666666,\"#ed7953\"],[0.7777777777777778,\"#fb9f3a\"],[0.8888888888888888,\"#fdca26\"],[1.0,\"#f0f921\"]],\"type\":\"contour\"}],\"contourcarpet\":[{\"colorbar\":{\"outlinewidth\":0,\"ticks\":\"\"},\"type\":\"contourcarpet\"}],\"heatmap\":[{\"colorbar\":{\"outlinewidth\":0,\"ticks\":\"\"},\"colorscale\":[[0.0,\"#0d0887\"],[0.1111111111111111,\"#46039f\"],[0.2222222222222222,\"#7201a8\"],[0.3333333333333333,\"#9c179e\"],[0.4444444444444444,\"#bd3786\"],[0.5555555555555556,\"#d8576b\"],[0.6666666666666666,\"#ed7953\"],[0.7777777777777778,\"#fb9f3a\"],[0.8888888888888888,\"#fdca26\"],[1.0,\"#f0f921\"]],\"type\":\"heatmap\"}],\"heatmapgl\":[{\"colorbar\":{\"outlinewidth\":0,\"ticks\":\"\"},\"colorscale\":[[0.0,\"#0d0887\"],[0.1111111111111111,\"#46039f\"],[0.2222222222222222,\"#7201a8\"],[0.3333333333333333,\"#9c179e\"],[0.4444444444444444,\"#bd3786\"],[0.5555555555555556,\"#d8576b\"],[0.6666666666666666,\"#ed7953\"],[0.7777777777777778,\"#fb9f3a\"],[0.8888888888888888,\"#fdca26\"],[1.0,\"#f0f921\"]],\"type\":\"heatmapgl\"}],\"histogram\":[{\"marker\":{\"pattern\":{\"fillmode\":\"overlay\",\"size\":10,\"solidity\":0.2}},\"type\":\"histogram\"}],\"histogram2d\":[{\"colorbar\":{\"outlinewidth\":0,\"ticks\":\"\"},\"colorscale\":[[0.0,\"#0d0887\"],[0.1111111111111111,\"#46039f\"],[0.2222222222222222,\"#7201a8\"],[0.3333333333333333,\"#9c179e\"],[0.4444444444444444,\"#bd3786\"],[0.5555555555555556,\"#d8576b\"],[0.6666666666666666,\"#ed7953\"],[0.7777777777777778,\"#fb9f3a\"],[0.8888888888888888,\"#fdca26\"],[1.0,\"#f0f921\"]],\"type\":\"histogram2d\"}],\"histogram2dcontour\":[{\"colorbar\":{\"outlinewidth\":0,\"ticks\":\"\"},\"colorscale\":[[0.0,\"#0d0887\"],[0.1111111111111111,\"#46039f\"],[0.2222222222222222,\"#7201a8\"],[0.3333333333333333,\"#9c179e\"],[0.4444444444444444,\"#bd3786\"],[0.5555555555555556,\"#d8576b\"],[0.6666666666666666,\"#ed7953\"],[0.7777777777777778,\"#fb9f3a\"],[0.8888888888888888,\"#fdca26\"],[1.0,\"#f0f921\"]],\"type\":\"histogram2dcontour\"}],\"mesh3d\":[{\"colorbar\":{\"outlinewidth\":0,\"ticks\":\"\"},\"type\":\"mesh3d\"}],\"parcoords\":[{\"line\":{\"colorbar\":{\"outlinewidth\":0,\"ticks\":\"\"}},\"type\":\"parcoords\"}],\"pie\":[{\"automargin\":true,\"type\":\"pie\"}],\"scatter\":[{\"marker\":{\"colorbar\":{\"outlinewidth\":0,\"ticks\":\"\"}},\"type\":\"scatter\"}],\"scatter3d\":[{\"line\":{\"colorbar\":{\"outlinewidth\":0,\"ticks\":\"\"}},\"marker\":{\"colorbar\":{\"outlinewidth\":0,\"ticks\":\"\"}},\"type\":\"scatter3d\"}],\"scattercarpet\":[{\"marker\":{\"colorbar\":{\"outlinewidth\":0,\"ticks\":\"\"}},\"type\":\"scattercarpet\"}],\"scattergeo\":[{\"marker\":{\"colorbar\":{\"outlinewidth\":0,\"ticks\":\"\"}},\"type\":\"scattergeo\"}],\"scattergl\":[{\"marker\":{\"colorbar\":{\"outlinewidth\":0,\"ticks\":\"\"}},\"type\":\"scattergl\"}],\"scattermapbox\":[{\"marker\":{\"colorbar\":{\"outlinewidth\":0,\"ticks\":\"\"}},\"type\":\"scattermapbox\"}],\"scatterpolar\":[{\"marker\":{\"colorbar\":{\"outlinewidth\":0,\"ticks\":\"\"}},\"type\":\"scatterpolar\"}],\"scatterpolargl\":[{\"marker\":{\"colorbar\":{\"outlinewidth\":0,\"ticks\":\"\"}},\"type\":\"scatterpolargl\"}],\"scatterternary\":[{\"marker\":{\"colorbar\":{\"outlinewidth\":0,\"ticks\":\"\"}},\"type\":\"scatterternary\"}],\"surface\":[{\"colorbar\":{\"outlinewidth\":0,\"ticks\":\"\"},\"colorscale\":[[0.0,\"#0d0887\"],[0.1111111111111111,\"#46039f\"],[0.2222222222222222,\"#7201a8\"],[0.3333333333333333,\"#9c179e\"],[0.4444444444444444,\"#bd3786\"],[0.5555555555555556,\"#d8576b\"],[0.6666666666666666,\"#ed7953\"],[0.7777777777777778,\"#fb9f3a\"],[0.8888888888888888,\"#fdca26\"],[1.0,\"#f0f921\"]],\"type\":\"surface\"}],\"table\":[{\"cells\":{\"fill\":{\"color\":\"#EBF0F8\"},\"line\":{\"color\":\"white\"}},\"header\":{\"fill\":{\"color\":\"#C8D4E3\"},\"line\":{\"color\":\"white\"}},\"type\":\"table\"}]},\"layout\":{\"annotationdefaults\":{\"arrowcolor\":\"#2a3f5f\",\"arrowhead\":0,\"arrowwidth\":1},\"autotypenumbers\":\"strict\",\"coloraxis\":{\"colorbar\":{\"outlinewidth\":0,\"ticks\":\"\"}},\"colorscale\":{\"diverging\":[[0,\"#8e0152\"],[0.1,\"#c51b7d\"],[0.2,\"#de77ae\"],[0.3,\"#f1b6da\"],[0.4,\"#fde0ef\"],[0.5,\"#f7f7f7\"],[0.6,\"#e6f5d0\"],[0.7,\"#b8e186\"],[0.8,\"#7fbc41\"],[0.9,\"#4d9221\"],[1,\"#276419\"]],\"sequential\":[[0.0,\"#0d0887\"],[0.1111111111111111,\"#46039f\"],[0.2222222222222222,\"#7201a8\"],[0.3333333333333333,\"#9c179e\"],[0.4444444444444444,\"#bd3786\"],[0.5555555555555556,\"#d8576b\"],[0.6666666666666666,\"#ed7953\"],[0.7777777777777778,\"#fb9f3a\"],[0.8888888888888888,\"#fdca26\"],[1.0,\"#f0f921\"]],\"sequentialminus\":[[0.0,\"#0d0887\"],[0.1111111111111111,\"#46039f\"],[0.2222222222222222,\"#7201a8\"],[0.3333333333333333,\"#9c179e\"],[0.4444444444444444,\"#bd3786\"],[0.5555555555555556,\"#d8576b\"],[0.6666666666666666,\"#ed7953\"],[0.7777777777777778,\"#fb9f3a\"],[0.8888888888888888,\"#fdca26\"],[1.0,\"#f0f921\"]]},\"colorway\":[\"#636efa\",\"#EF553B\",\"#00cc96\",\"#ab63fa\",\"#FFA15A\",\"#19d3f3\",\"#FF6692\",\"#B6E880\",\"#FF97FF\",\"#FECB52\"],\"font\":{\"color\":\"#2a3f5f\"},\"geo\":{\"bgcolor\":\"white\",\"lakecolor\":\"white\",\"landcolor\":\"#E5ECF6\",\"showlakes\":true,\"showland\":true,\"subunitcolor\":\"white\"},\"hoverlabel\":{\"align\":\"left\"},\"hovermode\":\"closest\",\"mapbox\":{\"style\":\"light\"},\"paper_bgcolor\":\"white\",\"plot_bgcolor\":\"#E5ECF6\",\"polar\":{\"angularaxis\":{\"gridcolor\":\"white\",\"linecolor\":\"white\",\"ticks\":\"\"},\"bgcolor\":\"#E5ECF6\",\"radialaxis\":{\"gridcolor\":\"white\",\"linecolor\":\"white\",\"ticks\":\"\"}},\"scene\":{\"xaxis\":{\"backgroundcolor\":\"#E5ECF6\",\"gridcolor\":\"white\",\"gridwidth\":2,\"linecolor\":\"white\",\"showbackground\":true,\"ticks\":\"\",\"zerolinecolor\":\"white\"},\"yaxis\":{\"backgroundcolor\":\"#E5ECF6\",\"gridcolor\":\"white\",\"gridwidth\":2,\"linecolor\":\"white\",\"showbackground\":true,\"ticks\":\"\",\"zerolinecolor\":\"white\"},\"zaxis\":{\"backgroundcolor\":\"#E5ECF6\",\"gridcolor\":\"white\",\"gridwidth\":2,\"linecolor\":\"white\",\"showbackground\":true,\"ticks\":\"\",\"zerolinecolor\":\"white\"}},\"shapedefaults\":{\"line\":{\"color\":\"#2a3f5f\"}},\"ternary\":{\"aaxis\":{\"gridcolor\":\"white\",\"linecolor\":\"white\",\"ticks\":\"\"},\"baxis\":{\"gridcolor\":\"white\",\"linecolor\":\"white\",\"ticks\":\"\"},\"bgcolor\":\"#E5ECF6\",\"caxis\":{\"gridcolor\":\"white\",\"linecolor\":\"white\",\"ticks\":\"\"}},\"title\":{\"x\":0.05},\"xaxis\":{\"automargin\":true,\"gridcolor\":\"white\",\"linecolor\":\"white\",\"ticks\":\"\",\"title\":{\"standoff\":15},\"zerolinecolor\":\"white\",\"zerolinewidth\":2},\"yaxis\":{\"automargin\":true,\"gridcolor\":\"white\",\"linecolor\":\"white\",\"ticks\":\"\",\"title\":{\"standoff\":15},\"zerolinecolor\":\"white\",\"zerolinewidth\":2}}},\"title\":{\"text\":\"<b>Efficacy of Pressing in the Premier League</b><br><span style=\\\"font-size: 13px;\\\"><i>Data source: Fbref (data from Statbomb)</i>\"},\"xaxis\":{\"linecolor\":\"#d9d9d9\",\"mirror\":true,\"range\":[350,725],\"showgrid\":true,\"title\":{\"text\":\"No of Pressures in the Attacking 3rd\"}},\"yaxis\":{\"linecolor\":\"#d9d9d9\",\"mirror\":true,\"range\":[26,32],\"showgrid\":true,\"title\":{\"text\":\"Successful Pressures(%)\"}}},                        {\"responsive\": true}                    ).then(function(){\n",
       "                            \n",
       "var gd = document.getElementById('90192080-0a3a-47c7-bd56-e9afd001f824');\n",
       "var x = new MutationObserver(function (mutations, observer) {{\n",
       "        var display = window.getComputedStyle(gd).display;\n",
       "        if (!display || display === 'none') {{\n",
       "            console.log([gd, 'removed!']);\n",
       "            Plotly.purge(gd);\n",
       "            observer.disconnect();\n",
       "        }}\n",
       "}});\n",
       "\n",
       "// Listen for the removal of the full notebook cells\n",
       "var notebookContainer = gd.closest('#notebook-container');\n",
       "if (notebookContainer) {{\n",
       "    x.observe(notebookContainer, {childList: true});\n",
       "}}\n",
       "\n",
       "// Listen for the clearing of the current output cell\n",
       "var outputEl = gd.closest('.output');\n",
       "if (outputEl) {{\n",
       "    x.observe(outputEl, {childList: true});\n",
       "}}\n",
       "\n",
       "                        })                };                });            </script>        </div>"
      ]
     },
     "metadata": {},
     "output_type": "display_data"
    }
   ],
   "source": [
    "import pandas as pd\n",
    "\n",
    "df = pd.read_csv('Joel A. Adejola–Pressing Data - 1 Final Pressing Data.csv')\n",
    "\n",
    "df\n",
    "\n",
    "import plotly.graph_objects as go\n",
    "import pandas as pd\n",
    "\n",
    "layout = dict(plot_bgcolor='light blue',\n",
    "              margin=dict(t=60, l=50, r=50, b=65),\n",
    "              xaxis=dict(title='No of Pressures in the Attacking 3rd',\n",
    "                         range=[350, 725],\n",
    "                         linecolor='#d9d9d9',\n",
    "                         showgrid=True,\n",
    "                         mirror=True),\n",
    "              yaxis=dict(title='Successful Pressures(%)',\n",
    "                         range=[26, 32],\n",
    "                         linecolor='#d9d9d9',\n",
    "                         showgrid=True,\n",
    "                         mirror=True))\n",
    "\n",
    "data = go.Scatter(x=df['Att 3rd'],\n",
    "                  y=df['Percentage Success'],\n",
    "                  text=df['Squad'],\n",
    "                  textposition='top right',\n",
    "                  textfont=dict(color='#E88600'),\n",
    "                  mode='markers+text',\n",
    "                  marker=dict(color='#5D69B1', size=8),\n",
    "                  name='citations')\n",
    "\n",
    "fig = go.Figure(data=data, layout=layout)\n",
    "\n",
    "fig.update_layout(\n",
    "    title = '<b>Efficacy of Pressing in the Premier League</b>'+'<br>'+'<span style=\"font-size: 13px;\"><i>Data source: Fbref (data from Statbomb)</i>',\n",
    ")\n",
    "\n",
    "# to add today's date\n",
    "from datetime import date\n",
    "today = date.today()\n",
    "\n",
    "# to add footnote on the page\n",
    "fig.add_annotation(\n",
    "    text = (f\"@joeladejola/ {today}\")\n",
    "    , showarrow=False\n",
    "    , x = 0\n",
    "    , y = -0.15\n",
    "    , xref='paper'\n",
    "    , yref='paper' \n",
    "    , xanchor='left'\n",
    "    , yanchor='bottom'\n",
    "    , xshift=-1\n",
    "    , yshift=-1\n",
    "    , font=dict(size=10, color=\"grey\")\n",
    "    , align=\"left\"\n",
    "    ,)\n",
    "\n",
    "# add annotation to each quadrant\n",
    "fig.add_annotation(\n",
    "    x='650'\n",
    "    , y=27\n",
    "    , text=f'No teams with High <br>Pressures in the Att. 3rd <br> and with Low Success Rate'\n",
    "    , yanchor='bottom'\n",
    "    , showarrow=False\n",
    "    , arrowhead=1\n",
    "    , arrowsize=1\n",
    "    , arrowwidth=2\n",
    "    , arrowcolor=\"#636363\"\n",
    "    , ax=-20\n",
    "    , ay=-30\n",
    "    , font=dict(size=12, color=\"black\", family=\"Courier New, monospace\")\n",
    "    , align=\"left\"\n",
    "    , bordercolor='green'\n",
    "    , borderwidth=2\n",
    "    , bgcolor=\"#CFECEC\"\n",
    "    , opacity=0.8\n",
    "    ,)\n",
    "fig.add_annotation(\n",
    "    x='650'\n",
    "    , y=29.5\n",
    "    , text=f'Southampton and Liverpool <br>are the most accomplished pressers <br> in the league'\n",
    "    , yanchor='bottom'\n",
    "    , showarrow=False\n",
    "    , arrowhead=1\n",
    "    , arrowsize=1\n",
    "    , arrowwidth=2\n",
    "    , arrowcolor=\"#636363\"\n",
    "    , ax=-20\n",
    "    , ay=-30\n",
    "    , font=dict(size=12, color=\"black\", family=\"Courier New, monospace\")\n",
    "    , align=\"left\"\n",
    "    , bordercolor='green'\n",
    "    , borderwidth=2\n",
    "    , bgcolor=\"#CFECEC\"\n",
    "    , opacity=0.8\n",
    "    ,)\n",
    "fig.add_annotation(\n",
    "    x='420'\n",
    "    , y=27\n",
    "    , text=f'Most teams press deeper<br>with relatively Lower Success Rate'\n",
    "    , yanchor='bottom'\n",
    "    , showarrow=False\n",
    "    , arrowhead=1\n",
    "    , arrowsize=1\n",
    "    , arrowwidth=2\n",
    "    , arrowcolor=\"#636363\"\n",
    "    , ax=-20\n",
    "    , ay=-30\n",
    "    , font=dict(size=12, color=\"black\", family=\"Courier New, monospace\")\n",
    "    , align=\"left\"\n",
    "    , bordercolor='green'\n",
    "    , borderwidth=2\n",
    "    , bgcolor=\"#CFECEC\"\n",
    "    , opacity=0.8\n",
    "    ,)\n",
    "fig.add_annotation(\n",
    "    x='400'\n",
    "    , y=31\n",
    "    , text=f'Only Wolves press deeper<br>and maintain High Success Rate'\n",
    "    , yanchor='bottom'\n",
    "    , showarrow=False\n",
    "    , arrowhead=1\n",
    "    , arrowsize=1\n",
    "    , arrowwidth=2\n",
    "    , arrowcolor=\"#636363\"\n",
    "    , ax=-20\n",
    "    , ay=-30\n",
    "    , font=dict(size=12, color=\"black\", family=\"Courier New, monospace\")\n",
    "    , align=\"left\"\n",
    "    , bordercolor='green'\n",
    "    , borderwidth=2\n",
    "    , bgcolor=\"#CFECEC\"\n",
    "    , opacity=0.8\n",
    "    ,)\n",
    "fig.show()"
   ]
  },
  {
   "cell_type": "code",
   "execution_count": null,
   "id": "569d6053",
   "metadata": {},
   "outputs": [],
   "source": []
  }
 ],
 "metadata": {
  "kernelspec": {
   "display_name": "Python 3",
   "language": "python",
   "name": "python3"
  },
  "language_info": {
   "codemirror_mode": {
    "name": "ipython",
    "version": 3
   },
   "file_extension": ".py",
   "mimetype": "text/x-python",
   "name": "python",
   "nbconvert_exporter": "python",
   "pygments_lexer": "ipython3",
   "version": "3.8.8"
  }
 },
 "nbformat": 4,
 "nbformat_minor": 5
}
